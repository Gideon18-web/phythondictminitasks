{
  "nbformat": 4,
  "nbformat_minor": 0,
  "metadata": {
    "colab": {
      "provenance": [],
      "authorship_tag": "ABX9TyNCNFtGbFtLV+nLGlNKXf/m",
      "include_colab_link": true
    },
    "kernelspec": {
      "name": "python3",
      "display_name": "Python 3"
    },
    "language_info": {
      "name": "python"
    }
  },
  "cells": [
    {
      "cell_type": "markdown",
      "metadata": {
        "id": "view-in-github",
        "colab_type": "text"
      },
      "source": [
        "<a href=\"https://colab.research.google.com/github/Gideon18-web/phythondictminitasks/blob/main/daily_expenses_tracker.ipynb\" target=\"_parent\"><img src=\"https://colab.research.google.com/assets/colab-badge.svg\" alt=\"Open In Colab\"/></a>"
      ]
    },
    {
      "cell_type": "code",
      "execution_count": null,
      "metadata": {
        "id": "tj9AQxraDt5F"
      },
      "outputs": [],
      "source": []
    },
    {
      "cell_type": "markdown",
      "source": [
        "Goal: Track your daily expenses and generate a summary of your spending.\n",
        "\n",
        "Features:\n",
        "\n",
        "Add expenses (amount, category, date, description)\n",
        "\n",
        "View all expenses\n",
        "\n",
        "Show total spent\n",
        "\n",
        "Filter by category or date\n",
        "\n",
        "Save data in a CSV or JSON file"
      ],
      "metadata": {
        "id": "j2K8rEm2D319"
      }
    },
    {
      "cell_type": "code",
      "source": [
        "import csv\n",
        "\n",
        "filename = \"expenses.csv\"\n",
        "\n",
        "#Load data from CSV file\n",
        "def load_expenses():\n",
        "    try:\n",
        "        with open(filename, \"r\") as file:\n",
        "            reader = csv.reader(file)\n",
        "            next(reader)  # Skip header\n",
        "            return list(reader)\n",
        "    except FileNotFoundError:\n",
        "        return []\n",
        "\n",
        "#Save data to CSV file\n",
        "def save_expenses(data):\n",
        "    with open(filename, \"w\", newline=\"\") as file:\n",
        "        writer = csv.writer(file)\n",
        "        writer.writerow([\"amount\", \"category\", \"date\", \"description\"])\n",
        "        writer.writerows(data)\n",
        "\n",
        "# Add a new expense\n",
        "def add_expense(data):\n",
        "    amount = input(\"Amount: \")\n",
        "    category = input(\"Category: \")\n",
        "    date = input(\"Date (YYYY-MM-DD): \")\n",
        "    desc = input(\"Description: \")\n",
        "    data.append([amount, category, date, desc])\n",
        "    save_expenses(data)\n",
        "    print(\"Expense saved!\\n\")\n",
        "\n",
        "#View all expenses\n",
        "def view_expenses(data):\n",
        "    if not data:\n",
        "        print(\"No expenses found.\\n\")\n",
        "    for row in data:\n",
        "        print(\" | \".join(row))\n",
        "    print()\n",
        "\n",
        "#total spending\n",
        "def total_spent(data):\n",
        "    total = sum(float(row[0]) for row in data)\n",
        "    print(f\"Total spent: {total}\\n\")\n",
        "\n",
        "#Filter expenses by category or date\n",
        "def filter_expenses(data):\n",
        "    choice = input(\"Filter by (c)ategory or (d)ate? \").lower()\n",
        "    keyword = input(\"Enter value to filter by: \")\n",
        "    for row in data:\n",
        "        if (choice == \"c\" and row[1] == keyword) or (choice == \"d\" and row[2] == keyword):\n",
        "            print(\" | \".join(row))\n",
        "    print()\n",
        "\n",
        "# Main program\n",
        "def main():\n",
        "    data = load_expenses()\n",
        "    while True:\n",
        "        print(\"1. Add Expense\\n2. View Expenses\\n3. Total Spent\\n4. Filter\\n5. Exit\")\n",
        "        option = input(\"Choose: \")\n",
        "\n",
        "        if option == \"1\":\n",
        "            add_expense(data)\n",
        "        elif option == \"2\":\n",
        "            view_expenses(data)\n",
        "        elif option == \"3\":\n",
        "            total_spent(data)\n",
        "        elif option == \"4\":\n",
        "            filter_expenses(data)\n",
        "        elif option == \"5\":\n",
        "            break\n",
        "        else:\n",
        "            print(\"Invalid option.\\n\")\n",
        "\n",
        "main()\n"
      ],
      "metadata": {
        "colab": {
          "base_uri": "https://localhost:8080/"
        },
        "collapsed": true,
        "id": "4h87fyJuD42w",
        "outputId": "057cc0f0-b782-4e40-f96b-4f44f045c0bf"
      },
      "execution_count": 2,
      "outputs": [
        {
          "name": "stdout",
          "output_type": "stream",
          "text": [
            "1. Add Expense\n",
            "2. View Expenses\n",
            "3. Total Spent\n",
            "4. Filter\n",
            "5. Exit\n",
            "Choose: 1\n",
            "Amount: 1000\n",
            "Category: housing\n",
            "Date (YYYY-MM-DD): 23-07-2025\n",
            "Description: water bill\n",
            "Expense saved!\n",
            "\n",
            "1. Add Expense\n",
            "2. View Expenses\n",
            "3. Total Spent\n",
            "4. Filter\n",
            "5. Exit\n",
            "Choose: 1\n",
            "Amount: 20000\n",
            "Category: housing\n",
            "Date (YYYY-MM-DD): 02-07-2025\n",
            "Description: rent\n",
            "Expense saved!\n",
            "\n",
            "1. Add Expense\n",
            "2. View Expenses\n",
            "3. Total Spent\n",
            "4. Filter\n",
            "5. Exit\n",
            "Choose: 1\n",
            "Amount: 2500\n",
            "Category: entertainment\n",
            "Date (YYYY-MM-DD): 15-07-2025\n",
            "Description: movie subscriptions\n",
            "Expense saved!\n",
            "\n",
            "1. Add Expense\n",
            "2. View Expenses\n",
            "3. Total Spent\n",
            "4. Filter\n",
            "5. Exit\n",
            "Choose: 2\n",
            "250 | food | 2025-07-18 | bought fruits\n",
            "1000 | housing | 23-07-2025 | water bill\n",
            "20000 | housing | 02-07-2025 | rent\n",
            "2500 | entertainment | 15-07-2025 | movie subscriptions\n",
            "\n",
            "1. Add Expense\n",
            "2. View Expenses\n",
            "3. Total Spent\n",
            "4. Filter\n",
            "5. Exit\n",
            "Choose: 4\n",
            "Filter by (c)ategory or (d)ate? d\n",
            "Enter value to filter by: date\n",
            "\n",
            "1. Add Expense\n",
            "2. View Expenses\n",
            "3. Total Spent\n",
            "4. Filter\n",
            "5. Exit\n",
            "Choose: 5\n"
          ]
        }
      ]
    },
    {
      "cell_type": "code",
      "source": [],
      "metadata": {
        "id": "2yoGq2JRHeXT"
      },
      "execution_count": null,
      "outputs": []
    }
  ]
}