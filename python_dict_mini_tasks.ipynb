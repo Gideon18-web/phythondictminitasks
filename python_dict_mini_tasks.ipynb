{
  "nbformat": 4,
  "nbformat_minor": 0,
  "metadata": {
    "colab": {
      "provenance": [],
      "authorship_tag": "ABX9TyPGeH66DevD6VokPJ08Efdg",
      "include_colab_link": true
    },
    "kernelspec": {
      "name": "python3",
      "display_name": "Python 3"
    },
    "language_info": {
      "name": "python"
    }
  },
  "cells": [
    {
      "cell_type": "markdown",
      "metadata": {
        "id": "view-in-github",
        "colab_type": "text"
      },
      "source": [
        "<a href=\"https://colab.research.google.com/github/Gideon18-web/phythondictminitasks/blob/main/python_dict_mini_tasks.ipynb\" target=\"_parent\"><img src=\"https://colab.research.google.com/assets/colab-badge.svg\" alt=\"Open In Colab\"/></a>"
      ]
    },
    {
      "cell_type": "code",
      "execution_count": null,
      "metadata": {
        "id": "bbk8bdHlEH5c"
      },
      "outputs": [],
      "source": []
    },
    {
      "cell_type": "markdown",
      "source": [
        "\n",
        " 1. Create a dictionary called student with:\n",
        "# Keys: \"name\", \"age\", \"grade\"\n",
        "# Values: \"Alice\", 14, \"B\""
      ],
      "metadata": {
        "id": "FZMS7ECQH5k5"
      }
    },
    {
      "cell_type": "code",
      "source": [
        "student = {\n",
        "    \"name\": \"Alice\",\n",
        "    \"age\": 14,\n",
        "    \"grade\": \"B\"\n",
        "}\n",
        "print(student[\"name\"])\n",
        "print(student[\"age\"])\n",
        "print(student[\"grade\"])\n"
      ],
      "metadata": {
        "colab": {
          "base_uri": "https://localhost:8080/"
        },
        "id": "cY-V1pCeIYB9",
        "outputId": "c7c35637-7800-43d8-aeec-4f7baee18dd9"
      },
      "execution_count": null,
      "outputs": [
        {
          "output_type": "stream",
          "name": "stdout",
          "text": [
            "Alice\n",
            "14\n",
            "B\n"
          ]
        }
      ]
    },
    {
      "cell_type": "code",
      "source": [
        "# 1.3. Add a new key called \"school\" with the value \"Greenwood High\".\n",
        "student[\"school\"] = \"Greenwood High\"\n",
        "print(student)\n"
      ],
      "metadata": {
        "colab": {
          "base_uri": "https://localhost:8080/"
        },
        "id": "pH8BI3SsIp1J",
        "outputId": "4048e592-4b0b-42c4-e9d2-31794688757d"
      },
      "execution_count": null,
      "outputs": [
        {
          "output_type": "stream",
          "name": "stdout",
          "text": [
            "{'name': 'Alice', 'age': 14, 'grade': 'B', 'school': 'Greenwood High'}\n"
          ]
        }
      ]
    },
    {
      "cell_type": "code",
      "source": [
        "student[\"grade\"] = \"A\"\n",
        "print(student)"
      ],
      "metadata": {
        "colab": {
          "base_uri": "https://localhost:8080/"
        },
        "id": "b5_djbPqJBwB",
        "outputId": "d73a2bd4-6501-493a-f585-f03813ef38fa"
      },
      "execution_count": null,
      "outputs": [
        {
          "output_type": "stream",
          "name": "stdout",
          "text": [
            "{'name': 'Alice', 'age': 14, 'grade': 'A', 'school': 'Greenwood High'}\n"
          ]
        }
      ]
    },
    {
      "cell_type": "code",
      "source": [
        "# 1.4. Delete the \"age\" key from the dictionary\n",
        "del student[\"age\"]\n",
        "print(student)"
      ],
      "metadata": {
        "colab": {
          "base_uri": "https://localhost:8080/"
        },
        "id": "7qh0cLVVJYcz",
        "outputId": "0a2acb02-4ed4-49de-e9c8-f282362a8506"
      },
      "execution_count": null,
      "outputs": [
        {
          "output_type": "stream",
          "name": "stdout",
          "text": [
            "{'name': 'Alice', 'grade': 'A', 'school': 'Greenwood High'}\n"
          ]
        }
      ]
    },
    {
      "cell_type": "code",
      "source": [
        "# 2. Loop through the following dictionary and print each key and value:\n",
        "person = {\"name\": \"Bob\", \"age\": 30, \"city\": \"Nairobi\"}"
      ],
      "metadata": {
        "id": "E_f1bk1iKA7z"
      },
      "execution_count": null,
      "outputs": []
    },
    {
      "cell_type": "code",
      "source": [
        "for key, value in person.items():\n",
        "    print(f\"{key}: {value}\")"
      ],
      "metadata": {
        "colab": {
          "base_uri": "https://localhost:8080/"
        },
        "id": "-maDJ-OJKQvu",
        "outputId": "25ade949-f902-4beb-9fb5-a718262b93b4"
      },
      "execution_count": null,
      "outputs": [
        {
          "output_type": "stream",
          "name": "stdout",
          "text": [
            "name: Bob\n",
            "age: 30\n",
            "city: Nairobi\n"
          ]
        }
      ]
    },
    {
      "cell_type": "code",
      "source": [
        "# 2.1. Loop through and print only the keys from the dictionary above.\n",
        "for key in person.keys():\n",
        "    print(key)"
      ],
      "metadata": {
        "colab": {
          "base_uri": "https://localhost:8080/"
        },
        "id": "wpt0kBzyKqzn",
        "outputId": "374f7eff-9fdd-4761-d91e-50d4189894c1"
      },
      "execution_count": null,
      "outputs": [
        {
          "output_type": "stream",
          "name": "stdout",
          "text": [
            "name\n",
            "age\n",
            "city\n"
          ]
        }
      ]
    },
    {
      "cell_type": "code",
      "source": [
        "#2.2. Loop through and print only the values.\n",
        "for value in person.values():\n",
        "  print(value)"
      ],
      "metadata": {
        "colab": {
          "base_uri": "https://localhost:8080/"
        },
        "id": "QcR_LlxdK1qo",
        "outputId": "ce53f28b-7bcb-41df-b611-a9913deeee0c"
      },
      "execution_count": null,
      "outputs": [
        {
          "output_type": "stream",
          "name": "stdout",
          "text": [
            "Bob\n",
            "30\n",
            "Nairobi\n"
          ]
        }
      ]
    },
    {
      "cell_type": "code",
      "source": [
        "# 2.3. Use .get() to retrieve the value of a key called \"email\" from person. If it doesn’t exist, return \"Not provided\".\n",
        "\n",
        "email = person.get(\"email\", \"Not provided\")\n",
        "print(email)"
      ],
      "metadata": {
        "colab": {
          "base_uri": "https://localhost:8080/"
        },
        "id": "RkAC0dEFLr70",
        "outputId": "5426f09e-8a79-4d9d-c5c1-7dea46b66a00"
      },
      "execution_count": null,
      "outputs": [
        {
          "output_type": "stream",
          "name": "stdout",
          "text": [
            "Not provided\n"
          ]
        }
      ]
    },
    {
      "cell_type": "code",
      "source": [
        "# 2.4. Check if the key \"city\" exists in the dictionary.\n",
        "if \"city\" in person:\n",
        "  print(\"city exists\")\n",
        "else:\n",
        "  print(\"city does not exist\")"
      ],
      "metadata": {
        "colab": {
          "base_uri": "https://localhost:8080/"
        },
        "id": "XhIBznlsMW17",
        "outputId": "5284583a-4aa6-4031-aacf-514984ea1542"
      },
      "execution_count": null,
      "outputs": [
        {
          "output_type": "stream",
          "name": "stdout",
          "text": [
            "city exists\n"
          ]
        }
      ]
    },
    {
      "cell_type": "code",
      "source": [
        "# 2.5. Use .update() to add or modify multiple values:\n",
        "# Update \"city\" to \"Mombasa\" and add \"email\": \"bob@example.com\"\n",
        "\n",
        "person.update({\"city\": \"Mombasa\", \"email\": \"bob@example.com\"})\n",
        "print(person)"
      ],
      "metadata": {
        "colab": {
          "base_uri": "https://localhost:8080/"
        },
        "id": "x9jpv2YsNNKe",
        "outputId": "2c890a80-73d1-432c-d21c-a9ef70fe44df"
      },
      "execution_count": null,
      "outputs": [
        {
          "output_type": "stream",
          "name": "stdout",
          "text": [
            "{'name': 'Bob', 'age': 30, 'city': 'Mombasa', 'email': 'bob@example.com'}\n"
          ]
        }
      ]
    },
    {
      "cell_type": "code",
      "source": [
        "# 3. Create a list of 3 students, each represented as a dictionary:\n",
        "# Each dictionary should have keys: \"name\", \"age\", \"grade\"\n",
        "\n",
        "students_list = [\n",
        "    {\"name\": \"Gideon\", \"age\": 14, \"grade\": \"B\", \"marks\": 78},\n",
        "    {\"name\": \"Nikita\", \"age\": 15, \"grade\": \"A\", \"marks\": 90},\n",
        "    {\"name\": \"Charlie\", \"age\": 16, \"grade\": \"C+\", \"marks\": 68},\n",
        "]"
      ],
      "metadata": {
        "id": "QwAUv-6rNo7-"
      },
      "execution_count": null,
      "outputs": []
    },
    {
      "cell_type": "code",
      "source": [
        "from os import name\n",
        "# 3.1. Loop through the list and print the name and grade of each student.\n",
        "\n",
        "for student in students_list:\n",
        "  print(f\"{student['name']}, {student['grade']}, {student['marks']}\")"
      ],
      "metadata": {
        "colab": {
          "base_uri": "https://localhost:8080/"
        },
        "id": "M1F0hr-zOsz8",
        "outputId": "7c5ca253-a3f0-4192-b732-5773338b617c"
      },
      "execution_count": null,
      "outputs": [
        {
          "output_type": "stream",
          "name": "stdout",
          "text": [
            "Gideon, B, 78\n",
            "Nikita, A, 90\n",
            "Charlie, C+, 68\n"
          ]
        }
      ]
    },
    {
      "cell_type": "code",
      "source": [],
      "metadata": {
        "id": "505uJnRuQQH_"
      },
      "execution_count": null,
      "outputs": []
    },
    {
      "cell_type": "code",
      "source": [
        "# 3.2. Write a loop to calculate the average grade (assuming grades are numbers).\n",
        "\n",
        "total_grade = 0\n",
        "for student in students_list:\n",
        "  total_grade += student[\"marks\"]\n",
        "  avg_grade = total_grade / len(students_list)\n",
        "  print(avg_grade)\n",
        "\n",
        "\n",
        "\n"
      ],
      "metadata": {
        "colab": {
          "base_uri": "https://localhost:8080/"
        },
        "id": "q_lGtK__PSNn",
        "outputId": "5350fe64-fead-45ff-d981-92854e15dba3"
      },
      "execution_count": null,
      "outputs": [
        {
          "output_type": "stream",
          "name": "stdout",
          "text": [
            "26.0\n",
            "56.0\n",
            "78.66666666666667\n"
          ]
        }
      ]
    },
    {
      "cell_type": "code",
      "source": [
        "# 5. Build a simple phonebook:\n",
        "# Ask the user to enter names and phone numbers\n",
        "# Store them in a dictionary\n",
        "# Allow the user to look up numbers by name\n",
        "\n",
        "# Initialize an empty dictionary to store contacts\n",
        "phonebook = {}\n",
        "\n",
        "while True:\n",
        "    print(\"\\nPhonebook Menu\")\n",
        "    print(\"1. Add a contact\")\n",
        "    print(\"2. Look up a number\")\n",
        "    print(\"3. Exit\")\n",
        "\n",
        "    choice = input(\"Enter your choice (1/2/3): \")\n",
        "\n",
        "    if choice == \"1\":\n",
        "        name = input(\"Enter contact name: \")\n",
        "        phone = input(\"Enter phone number: \")\n",
        "        phonebook[name] = phone\n",
        "        print(f\"{name} has been added to the phonebook.\")\n",
        "\n",
        "    elif choice == \"2\":\n",
        "        name = input(\"Enter the name to look up: \")\n",
        "        if name in phonebook:\n",
        "            print(f\"{name}'s number is {phonebook[name]}\")\n",
        "        else:\n",
        "            print(f\"{name} is not found in the phonebook.\")\n",
        "\n",
        "    elif choice == \"3\":\n",
        "        print(\"Exiting phonebook. Goodbye!\")\n",
        "        break\n",
        "\n",
        "    else:\n",
        "        print(\"Invalid choice. Please select 1, 2, or 3.\")\n"
      ],
      "metadata": {
        "id": "MeM_ele9ROqF",
        "colab": {
          "base_uri": "https://localhost:8080/"
        },
        "outputId": "0a568813-25ff-4dea-9dea-ecd6cc8eb250"
      },
      "execution_count": 30,
      "outputs": [
        {
          "output_type": "stream",
          "name": "stdout",
          "text": [
            "\n",
            "Phonebook Menu\n",
            "1. Add a contact\n",
            "2. Look up a number\n",
            "3. Exit\n",
            "Enter your choice (1/2/3): 1\n",
            "Enter contact name: Deon\n",
            "Enter phone number: 0702804585\n",
            "Deon has been added to the phonebook.\n",
            "\n",
            "Phonebook Menu\n",
            "1. Add a contact\n",
            "2. Look up a number\n",
            "3. Exit\n",
            "Enter your choice (1/2/3): 1\n",
            "Enter contact name: Avery\n",
            "Enter phone number: 0724747208\n",
            "Avery has been added to the phonebook.\n",
            "\n",
            "Phonebook Menu\n",
            "1. Add a contact\n",
            "2. Look up a number\n",
            "3. Exit\n",
            "Enter your choice (1/2/3): Juliana M\n",
            "Invalid choice. Please select 1, 2, or 3.\n",
            "\n",
            "Phonebook Menu\n",
            "1. Add a contact\n",
            "2. Look up a number\n",
            "3. Exit\n",
            "Enter your choice (1/2/3): 1\n",
            "Enter contact name: Juliana M\n",
            "Enter phone number: 0725341289\n",
            "Juliana M has been added to the phonebook.\n",
            "\n",
            "Phonebook Menu\n",
            "1. Add a contact\n",
            "2. Look up a number\n",
            "3. Exit\n",
            "Enter your choice (1/2/3): 2\n",
            "Enter the name to look up: juli\n",
            "juli is not found in the phonebook.\n",
            "\n",
            "Phonebook Menu\n",
            "1. Add a contact\n",
            "2. Look up a number\n",
            "3. Exit\n",
            "Enter your choice (1/2/3): juliana \n",
            "Invalid choice. Please select 1, 2, or 3.\n",
            "\n",
            "Phonebook Menu\n",
            "1. Add a contact\n",
            "2. Look up a number\n",
            "3. Exit\n",
            "Enter your choice (1/2/3): 2\n",
            "Enter the name to look up: juliana\n",
            "juliana is not found in the phonebook.\n",
            "\n",
            "Phonebook Menu\n",
            "1. Add a contact\n",
            "2. Look up a number\n",
            "3. Exit\n",
            "Enter your choice (1/2/3): 3\n",
            "Exiting phonebook. Goodbye!\n"
          ]
        }
      ]
    },
    {
      "cell_type": "code",
      "source": [
        "#improved version of the phonebook\n",
        "#Initialize an empty dictionary to store contacts\n",
        "phonebook = {}\n",
        "\n",
        "while True:\n",
        "    print(\"\\nPhonebook Menu\")\n",
        "    print(\"1. Add a contact\")\n",
        "    print(\"2. Look up a number\")\n",
        "    print(\"3. Exit\")\n",
        "\n",
        "    choice = input(\"Enter your choice (1/2/3): \")\n",
        "\n",
        "    if choice == \"1\":\n",
        "        name = input(\"Enter contact name: \").strip()\n",
        "        phone = input(\"Enter phone number: \").strip()\n",
        "        phonebook[name] = phone\n",
        "        print(f\"{name} has been added to the phonebook.\")\n",
        "\n",
        "    elif choice == \"2\":\n",
        "        search = input(\"Enter the name (or part of it) to look up: \").strip().lower()\n",
        "        found = False\n",
        "        for name, phone in phonebook.items():\n",
        "            if search in name.lower():\n",
        "                print(f\"{name}'s number is {phone}\")\n",
        "                found = True\n",
        "        if not found:\n",
        "            print(\"No matching contact found.\")\n",
        "\n",
        "    elif choice == \"3\":\n",
        "        print(\"Exiting phonebook. Goodbye!\")\n",
        "        break\n",
        "\n",
        "    else:\n",
        "        print(\"Invalid choice. Please select 1, 2, or 3.\")\n"
      ],
      "metadata": {
        "colab": {
          "base_uri": "https://localhost:8080/"
        },
        "id": "7TcQUmOuVQLn",
        "outputId": "c394e338-f712-4c3a-91ec-5405c42afd1c"
      },
      "execution_count": 31,
      "outputs": [
        {
          "output_type": "stream",
          "name": "stdout",
          "text": [
            "\n",
            "Phonebook Menu\n",
            "1. Add a contact\n",
            "2. Look up a number\n",
            "3. Exit\n",
            "Enter your choice (1/2/3): 2\n",
            "Enter the name (or part of it) to look up: jul\n",
            "No matching contact found.\n",
            "\n",
            "Phonebook Menu\n",
            "1. Add a contact\n",
            "2. Look up a number\n",
            "3. Exit\n",
            "Enter your choice (1/2/3): 1\n",
            "Enter contact name: Maingi M\n",
            "Enter phone number: 0723896732\n",
            "Maingi M has been added to the phonebook.\n",
            "\n",
            "Phonebook Menu\n",
            "1. Add a contact\n",
            "2. Look up a number\n",
            "3. Exit\n",
            "Enter your choice (1/2/3): Avery  M\n",
            "Invalid choice. Please select 1, 2, or 3.\n",
            "\n",
            "Phonebook Menu\n",
            "1. Add a contact\n",
            "2. Look up a number\n",
            "3. Exit\n",
            "Enter your choice (1/2/3): 1\n",
            "Enter contact name: Avery N\n",
            "Enter phone number: 0720458045\n",
            "Avery N has been added to the phonebook.\n",
            "\n",
            "Phonebook Menu\n",
            "1. Add a contact\n",
            "2. Look up a number\n",
            "3. Exit\n",
            "Enter your choice (1/2/3): Dei Dei\n",
            "Invalid choice. Please select 1, 2, or 3.\n",
            "\n",
            "Phonebook Menu\n",
            "1. Add a contact\n",
            "2. Look up a number\n",
            "3. Exit\n",
            "Enter your choice (1/2/3): 1\n",
            "Enter contact name: Dei Dei\n",
            "Enter phone number: 0751198827\n",
            "Dei Dei has been added to the phonebook.\n",
            "\n",
            "Phonebook Menu\n",
            "1. Add a contact\n",
            "2. Look up a number\n",
            "3. Exit\n",
            "Enter your choice (1/2/3): 2\n",
            "Enter the name (or part of it) to look up: de\n",
            "Dei Dei's number is 0751198827\n",
            "\n",
            "Phonebook Menu\n",
            "1. Add a contact\n",
            "2. Look up a number\n",
            "3. Exit\n",
            "Enter your choice (1/2/3): Deon MM\n",
            "Invalid choice. Please select 1, 2, or 3.\n",
            "\n",
            "Phonebook Menu\n",
            "1. Add a contact\n",
            "2. Look up a number\n",
            "3. Exit\n",
            "Enter your choice (1/2/3): 1\n",
            "Enter contact name: Deon MM\n",
            "Enter phone number: 0710287299\n",
            "Deon MM has been added to the phonebook.\n",
            "\n",
            "Phonebook Menu\n",
            "1. Add a contact\n",
            "2. Look up a number\n",
            "3. Exit\n",
            "Enter your choice (1/2/3): 2\n",
            "Enter the name (or part of it) to look up: d\n",
            "Dei Dei's number is 0751198827\n",
            "Deon MM's number is 0710287299\n",
            "\n",
            "Phonebook Menu\n",
            "1. Add a contact\n",
            "2. Look up a number\n",
            "3. Exit\n",
            "Enter your choice (1/2/3): 3\n",
            "Exiting phonebook. Goodbye!\n"
          ]
        }
      ]
    },
    {
      "cell_type": "code",
      "source": [],
      "metadata": {
        "id": "s4c4wR9UXd4-"
      },
      "execution_count": null,
      "outputs": []
    }
  ]
}