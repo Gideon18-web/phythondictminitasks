{
  "nbformat": 4,
  "nbformat_minor": 0,
  "metadata": {
    "colab": {
      "provenance": [],
      "authorship_tag": "ABX9TyNDNDn3byHNmx2Js8Oys9uG",
      "include_colab_link": true
    },
    "kernelspec": {
      "name": "python3",
      "display_name": "Python 3"
    },
    "language_info": {
      "name": "python"
    }
  },
  "cells": [
    {
      "cell_type": "markdown",
      "metadata": {
        "id": "view-in-github",
        "colab_type": "text"
      },
      "source": [
        "<a href=\"https://colab.research.google.com/github/Gideon18-web/phythondictminitasks/blob/main/python_dict_mini_tasks.ipynb\" target=\"_parent\"><img src=\"https://colab.research.google.com/assets/colab-badge.svg\" alt=\"Open In Colab\"/></a>"
      ]
    },
    {
      "cell_type": "code",
      "execution_count": null,
      "metadata": {
        "id": "bbk8bdHlEH5c"
      },
      "outputs": [],
      "source": []
    },
    {
      "cell_type": "markdown",
      "source": [
        "\n",
        " 1. Create a dictionary called student with:\n",
        "# Keys: \"name\", \"age\", \"grade\"\n",
        "# Values: \"Alice\", 14, \"B\""
      ],
      "metadata": {
        "id": "FZMS7ECQH5k5"
      }
    },
    {
      "cell_type": "code",
      "source": [
        "student = {\n",
        "    \"name\": \"Alice\",\n",
        "    \"age\": 14,\n",
        "    \"grade\": \"B\"\n",
        "}\n",
        "print(student)\n",
        "print(student[\"name\"])\n",
        "print(student[\"age\"])\n",
        "print(student[\"grade\"])\n",
        "\n",
        "print(\"\\n\")\n",
        "#alternate code\n",
        "name = input(\"Enter your name: \")\n",
        "age = int(input(\"Enter your age: \"))\n",
        "grade = input(\"Enter your grade: \")\n",
        "student[\"name\"] = name\n",
        "student[\"age\"] = age\n",
        "student[\"grade\"] = grade\n",
        "print(student)\n"
      ],
      "metadata": {
        "colab": {
          "base_uri": "https://localhost:8080/"
        },
        "id": "cY-V1pCeIYB9",
        "outputId": "a663f78b-d838-4dca-8b6e-42b130354745"
      },
      "execution_count": 12,
      "outputs": [
        {
          "output_type": "stream",
          "name": "stdout",
          "text": [
            "{'name': 'Alice', 'age': 14, 'grade': 'B'}\n",
            "Alice\n",
            "14\n",
            "B\n",
            "\n",
            "\n",
            "Enter your name: Alice\n",
            "Enter your age: 14\n",
            "Enter your grade: B\n",
            "{'name': 'Alice', 'age': 14, 'grade': 'B'}\n"
          ]
        }
      ]
    },
    {
      "cell_type": "code",
      "source": [
        "# 1.3. Add a new key called \"school\" with the value \"Greenwood High\".\n",
        "student[\"school\"] = \"Greenwood High\"\n",
        "print(student)\n"
      ],
      "metadata": {
        "colab": {
          "base_uri": "https://localhost:8080/"
        },
        "id": "pH8BI3SsIp1J",
        "outputId": "5f7050a3-220d-44dc-b41d-2d15a49fc44f"
      },
      "execution_count": 13,
      "outputs": [
        {
          "output_type": "stream",
          "name": "stdout",
          "text": [
            "{'name': 'Alice', 'age': 14, 'grade': 'B', 'school': 'Greenwood High'}\n"
          ]
        }
      ]
    },
    {
      "cell_type": "code",
      "source": [
        "student[\"grade\"] = \"A\"\n",
        "print(student)"
      ],
      "metadata": {
        "colab": {
          "base_uri": "https://localhost:8080/"
        },
        "id": "b5_djbPqJBwB",
        "outputId": "392ba9b6-5be5-46ff-cbb0-90bad5f15522"
      },
      "execution_count": 14,
      "outputs": [
        {
          "output_type": "stream",
          "name": "stdout",
          "text": [
            "{'name': 'Alice', 'age': 14, 'grade': 'A', 'school': 'Greenwood High'}\n"
          ]
        }
      ]
    },
    {
      "cell_type": "code",
      "source": [
        "# 1.4. Delete the \"age\" key from the dictionary\n",
        "del student[\"age\"]\n",
        "print(student)\n",
        "\n",
        "#could also use student.pop()"
      ],
      "metadata": {
        "colab": {
          "base_uri": "https://localhost:8080/"
        },
        "id": "7qh0cLVVJYcz",
        "outputId": "9690fecf-f408-4c3c-9e63-a720bcde4b80"
      },
      "execution_count": 15,
      "outputs": [
        {
          "output_type": "stream",
          "name": "stdout",
          "text": [
            "{'name': 'Alice', 'grade': 'A', 'school': 'Greenwood High'}\n"
          ]
        }
      ]
    },
    {
      "cell_type": "code",
      "source": [
        "# 2. Loop through the following dictionary and print each key and value:\n",
        "person = {\"name\": \"Bob\", \"age\": 30, \"city\": \"Nairobi\"}"
      ],
      "metadata": {
        "id": "E_f1bk1iKA7z"
      },
      "execution_count": 19,
      "outputs": []
    },
    {
      "cell_type": "code",
      "source": [
        "for key, value in person.items():\n",
        "    print(f\"{key}: {value}\")"
      ],
      "metadata": {
        "colab": {
          "base_uri": "https://localhost:8080/"
        },
        "id": "-maDJ-OJKQvu",
        "outputId": "25ade949-f902-4beb-9fb5-a718262b93b4"
      },
      "execution_count": null,
      "outputs": [
        {
          "output_type": "stream",
          "name": "stdout",
          "text": [
            "name: Bob\n",
            "age: 30\n",
            "city: Nairobi\n"
          ]
        }
      ]
    },
    {
      "cell_type": "code",
      "source": [
        "# 2.1. Loop through and print only the keys from the dictionary above.\n",
        "for key in person.keys():\n",
        "    print(key)"
      ],
      "metadata": {
        "colab": {
          "base_uri": "https://localhost:8080/"
        },
        "id": "wpt0kBzyKqzn",
        "outputId": "374f7eff-9fdd-4761-d91e-50d4189894c1"
      },
      "execution_count": null,
      "outputs": [
        {
          "output_type": "stream",
          "name": "stdout",
          "text": [
            "name\n",
            "age\n",
            "city\n"
          ]
        }
      ]
    },
    {
      "cell_type": "code",
      "source": [
        "#2.2. Loop through and print only the values.\n",
        "for value in person.values():\n",
        "  print(value)"
      ],
      "metadata": {
        "colab": {
          "base_uri": "https://localhost:8080/"
        },
        "id": "QcR_LlxdK1qo",
        "outputId": "ce53f28b-7bcb-41df-b611-a9913deeee0c"
      },
      "execution_count": null,
      "outputs": [
        {
          "output_type": "stream",
          "name": "stdout",
          "text": [
            "Bob\n",
            "30\n",
            "Nairobi\n"
          ]
        }
      ]
    },
    {
      "cell_type": "code",
      "source": [
        "# 2.3. Use .get() to retrieve the value of a key called \"email\" from person. If it doesn’t exist, return \"Not provided\".\n",
        "\n",
        "email = person.get(\"email\", \"Not provided\")\n",
        "print(email)\n"
      ],
      "metadata": {
        "colab": {
          "base_uri": "https://localhost:8080/"
        },
        "id": "RkAC0dEFLr70",
        "outputId": "24b181d9-79a2-4375-ed2a-6cb72b2a985c"
      },
      "execution_count": 34,
      "outputs": [
        {
          "output_type": "stream",
          "name": "stdout",
          "text": [
            "Not provided\n"
          ]
        }
      ]
    },
    {
      "cell_type": "code",
      "source": [
        "# 2.4. Check if the key \"city\" exists in the dictionary.\n",
        "if \"city\" in person.keys():\n",
        "  print(\"city exists\")\n",
        "else:\n",
        "  print(\"city does not exist\")"
      ],
      "metadata": {
        "colab": {
          "base_uri": "https://localhost:8080/"
        },
        "id": "XhIBznlsMW17",
        "outputId": "368a4524-9d2f-4aff-d9ac-aa4cd1f98f4b"
      },
      "execution_count": 20,
      "outputs": [
        {
          "output_type": "stream",
          "name": "stdout",
          "text": [
            "city exists\n"
          ]
        }
      ]
    },
    {
      "cell_type": "code",
      "source": [
        "# 2.5. Use .update() to add or modify multiple values:\n",
        "# Update \"city\" to \"Mombasa\" and add \"email\": \"bob@example.com\"\n",
        "\n",
        "person.update({\"city\": \"Mombasa\", \"email\": \"bob@example.com\"})\n",
        "print(person)"
      ],
      "metadata": {
        "colab": {
          "base_uri": "https://localhost:8080/"
        },
        "id": "x9jpv2YsNNKe",
        "outputId": "2c890a80-73d1-432c-d21c-a9ef70fe44df"
      },
      "execution_count": null,
      "outputs": [
        {
          "output_type": "stream",
          "name": "stdout",
          "text": [
            "{'name': 'Bob', 'age': 30, 'city': 'Mombasa', 'email': 'bob@example.com'}\n"
          ]
        }
      ]
    },
    {
      "cell_type": "code",
      "source": [
        "# 3. Create a list of 3 students, each represented as a dictionary:\n",
        "# Each dictionary should have keys: \"name\", \"age\", \"grade\"\n",
        "\n",
        "students_list = [\n",
        "    {\"name\": \"Gideon\", \"age\": 14, \"grade\": \"B\", \"marks\": 78},\n",
        "    {\"name\": \"Nikita\", \"age\": 15, \"grade\": \"A\", \"marks\": 90},\n",
        "    {\"name\": \"Charlie\", \"age\": 16, \"grade\": \"C+\", \"marks\": 68},\n",
        "]"
      ],
      "metadata": {
        "id": "QwAUv-6rNo7-"
      },
      "execution_count": 21,
      "outputs": []
    },
    {
      "cell_type": "code",
      "source": [
        "\n",
        "# 3.1. Loop through the list and print the name and grade of each student.\n",
        "\n",
        "for student in students_list:\n",
        "  print(f\"{student['name']}, {student['grade']}, {student['marks']}\")"
      ],
      "metadata": {
        "colab": {
          "base_uri": "https://localhost:8080/"
        },
        "id": "M1F0hr-zOsz8",
        "outputId": "f3ceee01-5e98-4ec9-a774-c0c56b407ee1"
      },
      "execution_count": 22,
      "outputs": [
        {
          "output_type": "stream",
          "name": "stdout",
          "text": [
            "Gideon, B, 78\n",
            "Nikita, A, 90\n",
            "Charlie, C+, 68\n"
          ]
        }
      ]
    },
    {
      "cell_type": "code",
      "source": [],
      "metadata": {
        "id": "505uJnRuQQH_"
      },
      "execution_count": null,
      "outputs": []
    },
    {
      "cell_type": "code",
      "source": [
        "# 3.2. Write a loop to calculate the average grade (assuming grades are numbers).\n",
        "\n",
        "total_grade = 0\n",
        "for student in students_list:\n",
        "  total_grade = int(student[\"marks\"]) + total_grade\n",
        "  avg_grade = total_grade / len(students_list)\n",
        "  print(avg_grade)\n",
        "\n",
        "\n",
        "\n"
      ],
      "metadata": {
        "colab": {
          "base_uri": "https://localhost:8080/"
        },
        "id": "q_lGtK__PSNn",
        "outputId": "d01633db-3914-45a8-af57-12191e87cc60"
      },
      "execution_count": 24,
      "outputs": [
        {
          "output_type": "stream",
          "name": "stdout",
          "text": [
            "26.0\n",
            "56.0\n",
            "78.66666666666667\n"
          ]
        }
      ]
    },
    {
      "cell_type": "code",
      "source": [
        "\n",
        "# 5. Build a simple phonebook:\n",
        "# Ask the user to enter names and phone numbers\n",
        "# Store them in a dictionary\n",
        "# Allow the user to look up numbers by name\n",
        "\n",
        "# Initialize an empty dictionary to store contacts\n",
        "phonebook = {}\n",
        "\n",
        "while True:\n",
        "    print(\"\\nPhonebook Menu\")\n",
        "    print(\"1. Add a contact\")\n",
        "    print(\"2. Look up a number\")\n",
        "    print(\"3. Exit\")\n",
        "\n",
        "    choice = input(\"Enter your choice (1/2/3): \")\n",
        "\n",
        "    if choice == \"1\":\n",
        "        name = input(\"Enter contact name: \")\n",
        "        phone = input(\"Enter phone number: \")\n",
        "        phonebook[name] = phone\n",
        "        print(f\"{name} has been added to the phonebook.\")\n",
        "\n",
        "    elif choice == \"2\":\n",
        "        name = input(\"Enter the name to look up: \")\n",
        "        if name in phonebook:\n",
        "            print(f\"{name}'s number is {phonebook[name]}\")\n",
        "        else:\n",
        "            print(f\"{name} is not found in the phonebook.\")\n",
        "\n",
        "    elif choice == \"3\":\n",
        "        print(\"Exiting phonebook. Goodbye!\")\n",
        "        break\n",
        "\n",
        "    else:\n",
        "        print(\"Invalid choice. Please select 1, 2, or 3.\")\n"
      ],
      "metadata": {
        "id": "MeM_ele9ROqF",
        "colab": {
          "base_uri": "https://localhost:8080/"
        },
        "outputId": "7d261525-e2ff-45c3-9cf3-81b511aa5148"
      },
      "execution_count": 28,
      "outputs": [
        {
          "output_type": "stream",
          "name": "stdout",
          "text": [
            "\n",
            "Phonebook Menu\n",
            "1. Add a contact\n",
            "2. Look up a number\n",
            "3. Exit\n",
            "Enter your choice (1/2/3): 1\n",
            "Enter contact name: Dei Dei\n",
            "Enter phone number: 0789564321\n",
            "Dei Dei has been added to the phonebook.\n",
            "\n",
            "Phonebook Menu\n",
            "1. Add a contact\n",
            "2. Look up a number\n",
            "3. Exit\n",
            "Enter your choice (1/2/3): 1\n",
            "Enter contact name: Gideon M\n",
            "Enter phone number: 0765432189\n",
            "Gideon M has been added to the phonebook.\n",
            "\n",
            "Phonebook Menu\n",
            "1. Add a contact\n",
            "2. Look up a number\n",
            "3. Exit\n",
            "Enter your choice (1/2/3): 2\n",
            "Enter the name to look up: Dei Dei\n",
            "Dei Dei's number is 0789564321\n",
            "\n",
            "Phonebook Menu\n",
            "1. Add a contact\n",
            "2. Look up a number\n",
            "3. Exit\n",
            "Enter your choice (1/2/3): 3\n",
            "Exiting phonebook. Goodbye!\n"
          ]
        }
      ]
    },
    {
      "cell_type": "code",
      "source": [
        "#improved version of the phonebook\n",
        "#Initialize an empty dictionary to store contacts\n",
        "phonebook = {}\n",
        "\n",
        "while True:\n",
        "    print(\"\\nPhonebook Menu\")\n",
        "    print(\"1. Add a contact\")\n",
        "    print(\"2. Look up a number\")\n",
        "    print(\"3. Exit\")\n",
        "\n",
        "    choice = input(\"Enter your choice (1/2/3): \")\n",
        "\n",
        "    if choice == \"1\":\n",
        "        name = input(\"Enter contact name: \").strip()\n",
        "        phone = input(\"Enter phone number: \").strip()\n",
        "        phonebook[name] = phone\n",
        "        print(f\"{name} has been added to the phonebook.\")\n",
        "\n",
        "    elif choice == \"2\":\n",
        "        search = input(\"Enter the name (or part of it) to look up: \").strip().lower()\n",
        "        found = False\n",
        "        for name, phone in phonebook.items():\n",
        "            if search in name.lower():\n",
        "                print(f\"{name}'s number is {phone}\")\n",
        "                found = True\n",
        "        if not found:\n",
        "            print(\"No matching contact found.\")\n",
        "\n",
        "    elif choice == \"3\":\n",
        "        print(\"Exiting phonebook. Goodbye!\")\n",
        "        break\n",
        "\n",
        "    else:\n",
        "        print(\"Invalid choice. Please select 1, 2, or 3.\")\n"
      ],
      "metadata": {
        "colab": {
          "base_uri": "https://localhost:8080/"
        },
        "id": "7TcQUmOuVQLn",
        "outputId": "1fc41f4d-4b83-4a32-d4bf-78cb728dffdc"
      },
      "execution_count": 29,
      "outputs": [
        {
          "output_type": "stream",
          "name": "stdout",
          "text": [
            "\n",
            "Phonebook Menu\n",
            "1. Add a contact\n",
            "2. Look up a number\n",
            "3. Exit\n",
            "Enter your choice (1/2/3): 1\n",
            "Enter contact name: Deon M\n",
            "Enter phone number: 0723415678\n",
            "Deon M has been added to the phonebook.\n",
            "\n",
            "Phonebook Menu\n",
            "1. Add a contact\n",
            "2. Look up a number\n",
            "3. Exit\n",
            "Enter your choice (1/2/3): 1\n",
            "Enter contact name: JJ\n",
            "Enter phone number: 0768453219\n",
            "JJ has been added to the phonebook.\n",
            "\n",
            "Phonebook Menu\n",
            "1. Add a contact\n",
            "2. Look up a number\n",
            "3. Exit\n",
            "Enter your choice (1/2/3): 2\n",
            "Enter the name (or part of it) to look up: deo\n",
            "Deon M's number is 0723415678\n",
            "\n",
            "Phonebook Menu\n",
            "1. Add a contact\n",
            "2. Look up a number\n",
            "3. Exit\n",
            "Enter your choice (1/2/3): 3\n",
            "Exiting phonebook. Goodbye!\n"
          ]
        }
      ]
    },
    {
      "cell_type": "code",
      "source": [
        "# 4. Create a dictionary to count how many times each word appears in this list:\n",
        "# Output should be:\n",
        "# {\"apple\": 3, \"banana\": 2, \"cherry\": 1}\n",
        "words = [\"apple\", \"banana\", \"apple\", \"cherry\", \"banana\", \"apple\"]\n",
        "\n",
        "word_count = {}\n",
        "\n",
        "for word in words:\n",
        "  if word in word_count:\n",
        "    word_count[word] += 1\n",
        "  else:\n",
        "    word_count[word] = 1\n",
        "\n",
        "print(word_count)"
      ],
      "metadata": {
        "colab": {
          "base_uri": "https://localhost:8080/"
        },
        "id": "s4c4wR9UXd4-",
        "outputId": "e9a7b0c8-9821-4842-b19e-1e6bfc71539c"
      },
      "execution_count": 25,
      "outputs": [
        {
          "output_type": "stream",
          "name": "stdout",
          "text": [
            "{'apple': 3, 'banana': 2, 'cherry': 1}\n"
          ]
        }
      ]
    },
    {
      "cell_type": "code",
      "source": [],
      "metadata": {
        "id": "ftMdbxaw3qfz"
      },
      "execution_count": null,
      "outputs": []
    }
  ]
}