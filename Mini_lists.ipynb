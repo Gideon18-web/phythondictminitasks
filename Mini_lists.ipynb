{
  "cells": [
    {
      "cell_type": "markdown",
      "metadata": {
        "id": "view-in-github",
        "colab_type": "text"
      },
      "source": [
        "<a href=\"https://colab.research.google.com/github/Gideon18-web/phythondictminitasks/blob/main/Mini_lists.ipynb\" target=\"_parent\"><img src=\"https://colab.research.google.com/assets/colab-badge.svg\" alt=\"Open In Colab\"/></a>"
      ]
    },
    {
      "cell_type": "code",
      "execution_count": 62,
      "id": "afeeed59-dc7d-4c3b-bae8-c608702583e3",
      "metadata": {
        "id": "afeeed59-dc7d-4c3b-bae8-c608702583e3"
      },
      "outputs": [],
      "source": [
        "# 1. Create a list of your 8 foods and store it in a variable called foods.\n",
        "# pizza cake banana kales pizza chicken beef\n",
        "\n",
        "foods = [\"pizza\", \"cake\", \"banana\", \"kales\", \"pizza\", \"chicken\", \"beef\", \"ugali\"]\n"
      ]
    },
    {
      "cell_type": "code",
      "execution_count": 63,
      "id": "99dc3ac5-da15-4898-9512-c2fe3f9f271e",
      "metadata": {
        "colab": {
          "base_uri": "https://localhost:8080/"
        },
        "id": "99dc3ac5-da15-4898-9512-c2fe3f9f271e",
        "outputId": "7b0a0ca8-e55e-41b3-92e8-dd0ea9e0d3b6"
      },
      "outputs": [
        {
          "output_type": "stream",
          "name": "stdout",
          "text": [
            "pizza\n",
            "ugali\n"
          ]
        }
      ],
      "source": [
        "# 1.1. Print the first and last item in the foods list.\n",
        "print(foods[0])\n",
        "print(foods[-1])"
      ]
    },
    {
      "cell_type": "code",
      "execution_count": 64,
      "id": "d0397985-bbc5-44a8-8598-d85a80b01687",
      "metadata": {
        "colab": {
          "base_uri": "https://localhost:8080/"
        },
        "id": "d0397985-bbc5-44a8-8598-d85a80b01687",
        "outputId": "73c5e388-65ef-4e16-c5de-e216c7972f27"
      },
      "outputs": [
        {
          "output_type": "stream",
          "name": "stdout",
          "text": [
            "['pizza', 'cake', 'fish', 'kales', 'pizza', 'chicken', 'beef', 'ugali']\n"
          ]
        }
      ],
      "source": [
        "# 1.2. Replace the third item in the list with another food.\n",
        "foods[2] = \"fish\"\n",
        "print(foods)"
      ]
    },
    {
      "cell_type": "code",
      "execution_count": 65,
      "id": "4794318d-827d-4a4c-ba5a-9e8ecb078e1b",
      "metadata": {
        "colab": {
          "base_uri": "https://localhost:8080/"
        },
        "id": "4794318d-827d-4a4c-ba5a-9e8ecb078e1b",
        "outputId": "3b70f268-a3e2-428f-daa9-887eb0226b08"
      },
      "outputs": [
        {
          "output_type": "stream",
          "name": "stdout",
          "text": [
            "['pizza', 'cake', 'fish', 'kales', 'pizza', 'chicken', 'beef', 'ugali', 'rice']\n"
          ]
        }
      ],
      "source": [
        "# 1.3. Add a new food to the end of the list using .append().\n",
        "\n",
        "foods.append(\"rice\")\n",
        "print(foods)"
      ]
    },
    {
      "cell_type": "code",
      "execution_count": 66,
      "id": "53bbba42-1d27-4f7b-9db7-61f2335ec42b",
      "metadata": {
        "colab": {
          "base_uri": "https://localhost:8080/"
        },
        "id": "53bbba42-1d27-4f7b-9db7-61f2335ec42b",
        "outputId": "4707c828-c3a1-49bf-c21c-c3f8c56e54df"
      },
      "outputs": [
        {
          "output_type": "stream",
          "name": "stdout",
          "text": [
            "['pizza', 'cake', 'fish', 'kales', 'pizza', 'beef', 'ugali', 'rice']\n"
          ]
        }
      ],
      "source": [
        "# 1.4. Remove one food from the list using .remove().\n",
        "foods.remove(\"chicken\")\n",
        "print(foods)"
      ]
    },
    {
      "cell_type": "code",
      "execution_count": 67,
      "id": "0bc216e8-fb4f-43a8-a931-2d2a8378aca4",
      "metadata": {
        "colab": {
          "base_uri": "https://localhost:8080/"
        },
        "id": "0bc216e8-fb4f-43a8-a931-2d2a8378aca4",
        "outputId": "7bf58fe9-f717-45ca-fbaf-3cfeb30ef9b2"
      },
      "outputs": [
        {
          "output_type": "stream",
          "name": "stdout",
          "text": [
            "pizza\n",
            "cake\n",
            "fish\n",
            "kales\n",
            "pizza\n",
            "beef\n",
            "ugali\n",
            "rice\n"
          ]
        }
      ],
      "source": [
        "# 1.5. Use a for loop to print each item in the list on a new line.\n",
        "for food in foods:\n",
        "  print(food)"
      ]
    },
    {
      "cell_type": "code",
      "execution_count": 68,
      "id": "0d187ba2-1c54-47a6-ad7a-ccfcec3c1055",
      "metadata": {
        "colab": {
          "base_uri": "https://localhost:8080/"
        },
        "id": "0d187ba2-1c54-47a6-ad7a-ccfcec3c1055",
        "outputId": "8af91b5a-e674-49c6-a810-f38b9e56e419"
      },
      "outputs": [
        {
          "output_type": "stream",
          "name": "stdout",
          "text": [
            "No food starts with a\n"
          ]
        }
      ],
      "source": [
        "# 1.6. Use a loop to print only the foods that start with the letter \"a\".\n",
        "for food in foods:\n",
        "  if food.startswith(\"a\"):\n",
        "    print(food)\n",
        "  else:\n",
        "    print(\"No food starts with a\")\n",
        "    break"
      ]
    },
    {
      "cell_type": "code",
      "execution_count": 69,
      "id": "2a69be21-6d6c-467c-a4d4-331fae66a85c",
      "metadata": {
        "colab": {
          "base_uri": "https://localhost:8080/"
        },
        "id": "2a69be21-6d6c-467c-a4d4-331fae66a85c",
        "outputId": "70dc9118-0b7a-443f-88a4-78c84b5048c8"
      },
      "outputs": [
        {
          "output_type": "execute_result",
          "data": {
            "text/plain": [
              "2"
            ]
          },
          "metadata": {},
          "execution_count": 69
        }
      ],
      "source": [
        "# 1.7. Count how many times \"pizza\" appears in the list.\n",
        "\n",
        "foods.count(\"pizza\")"
      ]
    },
    {
      "cell_type": "code",
      "execution_count": 83,
      "id": "4d4ba594-6eef-48ca-a1a8-461343e841f8",
      "metadata": {
        "colab": {
          "base_uri": "https://localhost:8080/"
        },
        "id": "4d4ba594-6eef-48ca-a1a8-461343e841f8",
        "outputId": "57dacb10-5057-4361-e623-6b251b0a2705"
      },
      "outputs": [
        {
          "output_type": "stream",
          "name": "stdout",
          "text": [
            "['cake', 'fish', 'kales']\n"
          ]
        }
      ],
      "source": [
        "# 1.8. Print the second to fourth items using slicing.\n",
        "# Remember that slicing is getting a range of values using the square brackets and index\n",
        "\n",
        "print(foods[1:4])"
      ]
    },
    {
      "cell_type": "code",
      "execution_count": 84,
      "id": "c8f9673f-5eed-4978-8edf-3c5d502c3e7c",
      "metadata": {
        "colab": {
          "base_uri": "https://localhost:8080/"
        },
        "id": "c8f9673f-5eed-4978-8edf-3c5d502c3e7c",
        "outputId": "f578ac2c-af29-467a-96e5-6d6575147eb7"
      },
      "outputs": [
        {
          "output_type": "stream",
          "name": "stdout",
          "text": [
            "['rice', 'ugali', 'beef', 'pizza', 'kales', 'fish', 'cake', 'pizza']\n"
          ]
        }
      ],
      "source": [
        "# 1.9. Print the list in reverse using slicing.\n",
        "print(foods[::-1])"
      ]
    },
    {
      "cell_type": "code",
      "execution_count": 86,
      "id": "38f790ac-eb70-4a0d-b2a1-6fe58ebb1ceb",
      "metadata": {
        "colab": {
          "base_uri": "https://localhost:8080/"
        },
        "id": "38f790ac-eb70-4a0d-b2a1-6fe58ebb1ceb",
        "outputId": "1f28632c-f435-4f58-e345-afef273d2c40"
      },
      "outputs": [
        {
          "output_type": "execute_result",
          "data": {
            "text/plain": [
              "[5, 2, 9, 1, 7]"
            ]
          },
          "metadata": {},
          "execution_count": 86
        }
      ],
      "source": [
        "# 2. Create a list of numbers: 5 2 9 1 7\n",
        "numbers = [5, 2, 9, 1, 7]\n",
        "numbers"
      ]
    },
    {
      "cell_type": "code",
      "execution_count": 87,
      "id": "49112858-2921-4edb-b3ee-87807966ca01",
      "metadata": {
        "colab": {
          "base_uri": "https://localhost:8080/"
        },
        "id": "49112858-2921-4edb-b3ee-87807966ca01",
        "outputId": "04553ca8-3764-4055-afc7-dbe6d3d744a3"
      },
      "outputs": [
        {
          "output_type": "stream",
          "name": "stdout",
          "text": [
            "24\n",
            "9\n",
            "1\n"
          ]
        }
      ],
      "source": [
        "# 2.1 Use the following functions:\n",
        "# sum() to calculate total\n",
        "# max() to find the highest\n",
        "# min() to find the smallest\n",
        "\n",
        "print(sum(numbers))\n",
        "print(max(numbers))\n",
        "print(min(numbers))"
      ]
    },
    {
      "cell_type": "code",
      "execution_count": 88,
      "id": "5d737597-d5e5-47ef-9347-5968b9096817",
      "metadata": {
        "colab": {
          "base_uri": "https://localhost:8080/"
        },
        "id": "5d737597-d5e5-47ef-9347-5968b9096817",
        "outputId": "a13b6258-a725-4562-b00d-3dcb2bbdf8ac"
      },
      "outputs": [
        {
          "output_type": "stream",
          "name": "stdout",
          "text": [
            "[1, 2, 5, 7, 9]\n",
            "[9, 7, 5, 2, 1]\n"
          ]
        }
      ],
      "source": [
        "# 2.2. Sort the list in ascending and descending order using .sort() and .reverse().\n",
        "numbers.sort()\n",
        "print(numbers)\n",
        "numbers.reverse()\n",
        "print(numbers)"
      ]
    },
    {
      "cell_type": "code",
      "execution_count": 89,
      "id": "be0a25a2-c415-409c-bd50-681b668ad678",
      "metadata": {
        "colab": {
          "base_uri": "https://localhost:8080/"
        },
        "id": "be0a25a2-c415-409c-bd50-681b668ad678",
        "outputId": "9e253d8d-6237-4609-e414-1c00cdd6cf58"
      },
      "outputs": [
        {
          "output_type": "stream",
          "name": "stdout",
          "text": [
            "[9, 7, 10, 5, 2, 1]\n"
          ]
        }
      ],
      "source": [
        "# 2.3. Use .insert() to add the number 10 at index 2.\n",
        "numbers.insert(2, 10)\n",
        "print(numbers)"
      ]
    },
    {
      "cell_type": "code",
      "execution_count": 90,
      "id": "226d1f17-52d0-4e88-a57d-dae06cb775b9",
      "metadata": {
        "colab": {
          "base_uri": "https://localhost:8080/"
        },
        "id": "226d1f17-52d0-4e88-a57d-dae06cb775b9",
        "outputId": "ca491a11-19ac-490d-9ea5-dbb140348326"
      },
      "outputs": [
        {
          "output_type": "stream",
          "name": "stdout",
          "text": [
            "Alice 85\n",
            "Bob 78\n",
            "Charlie 92\n"
          ]
        }
      ],
      "source": [
        "# 3. Create the nested list of students below and their scores:\n",
        "# then print each student's name and score using a loop.\n",
        "students = [[\"Alice\", 85], [\"Bob\", 78], [\"Charlie\", 92]]\n",
        "for student in students:\n",
        "  print(student[0],student[1])"
      ]
    },
    {
      "cell_type": "code",
      "execution_count": 94,
      "id": "a5d23639-9eee-4907-b6dc-572a2d36177a",
      "metadata": {
        "colab": {
          "base_uri": "https://localhost:8080/"
        },
        "id": "a5d23639-9eee-4907-b6dc-572a2d36177a",
        "outputId": "7ca6b820-6f59-488b-e918-93e192da90e0"
      },
      "outputs": [
        {
          "output_type": "stream",
          "name": "stdout",
          "text": [
            "Charlie\n"
          ]
        }
      ],
      "source": [
        "# 3.1. Find the student with the highest score\n",
        "highest_score = 0\n",
        "for student in students:\n",
        "  if student[1] > highest_score:\n",
        "    highest_score = student[1]\n",
        "    highest_student = student[0]\n",
        "print(highest_student)"
      ]
    },
    {
      "cell_type": "code",
      "execution_count": 96,
      "id": "8ac139d5-fb73-433e-be6c-66ec9734c83b",
      "metadata": {
        "colab": {
          "base_uri": "https://localhost:8080/"
        },
        "id": "8ac139d5-fb73-433e-be6c-66ec9734c83b",
        "outputId": "0567e8d4-9146-4b15-e142-b0cdecf3d00e"
      },
      "outputs": [
        {
          "output_type": "stream",
          "name": "stdout",
          "text": [
            "Enter number 1: 23\n",
            "Enter number 2: 8\n",
            "Enter number 3: 89\n",
            "Enter number 4: 24\n",
            "Enter number 5: 33\n",
            "You entered: [23, 8, 89, 24, 33]\n"
          ]
        }
      ],
      "source": [
        "# 4. Write a function that asks the user to enter 5 numbers and stores them in a list.\n",
        "def get_numbers():\n",
        "    numbers = []\n",
        "    for i in range(5):\n",
        "        num = int(input(f\"Enter number {i + 1}: \"))\n",
        "        numbers.append(num)\n",
        "    return numbers\n",
        "user_numbers = get_numbers()\n",
        "print(\"You entered:\", user_numbers)\n"
      ]
    },
    {
      "cell_type": "code",
      "execution_count": 100,
      "id": "87f7cd84-9e40-43c3-bec6-5b65a7695334",
      "metadata": {
        "colab": {
          "base_uri": "https://localhost:8080/"
        },
        "id": "87f7cd84-9e40-43c3-bec6-5b65a7695334",
        "outputId": "9f425377-f070-46cc-af9b-fffded94728f"
      },
      "outputs": [
        {
          "output_type": "stream",
          "name": "stdout",
          "text": [
            "Enter number 1: 67\n",
            "Enter number 2: 98\n",
            "Enter number 3: 45\n",
            "Enter number 4: 21\n",
            "Enter number 5: 80\n",
            "[23, 89, 33]\n"
          ]
        }
      ],
      "source": [
        "# 4.1. Write a function that removes all even numbers from the list provided by the user.\n",
        "def remove_even_numbers(numbers):\n",
        "    return [num for num in numbers if num % 2 != 0]\n",
        "get_numbers()\n",
        "print(remove_even_numbers(user_numbers))\n"
      ]
    },
    {
      "cell_type": "code",
      "execution_count": 101,
      "id": "b7dfad1c-b60a-450b-a56b-c4a43c50dfdb",
      "metadata": {
        "colab": {
          "base_uri": "https://localhost:8080/"
        },
        "id": "b7dfad1c-b60a-450b-a56b-c4a43c50dfdb",
        "outputId": "2a868700-e1dd-4496-eb67-4665222641f7"
      },
      "outputs": [
        {
          "output_type": "stream",
          "name": "stdout",
          "text": [
            "[1, 2, 3, 4, 5, 6]\n"
          ]
        }
      ],
      "source": [
        "# 5. Merge two lists:\n",
        "list1 = [1, 2, 3]\n",
        "list2 = [4, 5, 6]\n",
        "combined_list = list1 + list2\n",
        "print(combined_list)"
      ]
    },
    {
      "cell_type": "code",
      "execution_count": 103,
      "id": "dd94be4f-dadb-4134-a7d7-d15b4c20657c",
      "metadata": {
        "colab": {
          "base_uri": "https://localhost:8080/"
        },
        "id": "dd94be4f-dadb-4134-a7d7-d15b4c20657c",
        "outputId": "5f53f2d8-1159-4ee3-9345-002bc9d8f39d"
      },
      "outputs": [
        {
          "output_type": "stream",
          "name": "stdout",
          "text": [
            "Enter a student name (type 'stop' to finish): Sally\n",
            "Enter a student name (type 'stop' to finish): Daniel\n",
            "Enter a student name (type 'stop' to finish): Rose\n",
            "Enter a student name (type 'stop' to finish): Nikita\n",
            "Enter a student name (type 'stop' to finish): Dei Dei\n",
            "Enter a student name (type 'stop' to finish): Mello\n",
            "Enter a student name (type 'stop' to finish): stop\n",
            "Student names: ['Sally', 'Daniel', 'Rose', 'Nikita', 'Dei Dei', 'Mello']\n"
          ]
        }
      ],
      "source": [
        "# 6. Ask the user to input student names until they type \"stop\". Store all names in a list and print it at the end.\n",
        "names = []\n",
        "while True:\n",
        "    name = input(\"Enter a student name (type 'stop' to finish): \")\n",
        "    if name == \"stop\":\n",
        "        break\n",
        "    names.append(name)\n",
        "print(\"Student names:\", names)"
      ]
    },
    {
      "cell_type": "code",
      "execution_count": 105,
      "id": "cede72a7-6309-474f-a110-9c3a1bd9ea94",
      "metadata": {
        "colab": {
          "base_uri": "https://localhost:8080/"
        },
        "id": "cede72a7-6309-474f-a110-9c3a1bd9ea94",
        "outputId": "2b6f2d13-74cb-4fdb-ada8-fb7fb5c18404"
      },
      "outputs": [
        {
          "output_type": "stream",
          "name": "stdout",
          "text": [
            "Daniel\n",
            "Nikita\n",
            "Dei Dei\n"
          ]
        }
      ],
      "source": [
        "# 6.1. From the list of names, print only those that are longer than 5 characters.\n",
        "for name in names:\n",
        "  if len(name) > 5:\n",
        "    print(name)"
      ]
    },
    {
      "cell_type": "code",
      "source": [],
      "metadata": {
        "id": "iZ6f4I_sa3Ny"
      },
      "id": "iZ6f4I_sa3Ny",
      "execution_count": null,
      "outputs": []
    }
  ],
  "metadata": {
    "kernelspec": {
      "display_name": "Python [conda env:base] *",
      "language": "python",
      "name": "conda-base-py"
    },
    "language_info": {
      "codemirror_mode": {
        "name": "ipython",
        "version": 3
      },
      "file_extension": ".py",
      "mimetype": "text/x-python",
      "name": "python",
      "nbconvert_exporter": "python",
      "pygments_lexer": "ipython3",
      "version": "3.12.7"
    },
    "colab": {
      "provenance": [],
      "include_colab_link": true
    }
  },
  "nbformat": 4,
  "nbformat_minor": 5
}