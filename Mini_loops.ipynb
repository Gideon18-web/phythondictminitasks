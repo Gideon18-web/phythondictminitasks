{
  "cells": [
    {
      "cell_type": "markdown",
      "metadata": {
        "id": "view-in-github",
        "colab_type": "text"
      },
      "source": [
        "<a href=\"https://colab.research.google.com/github/Gideon18-web/phythondictminitasks/blob/main/Mini_loops.ipynb\" target=\"_parent\"><img src=\"https://colab.research.google.com/assets/colab-badge.svg\" alt=\"Open In Colab\"/></a>"
      ]
    },
    {
      "cell_type": "code",
      "execution_count": 1,
      "id": "fadb41fd-49ce-4cd7-b15c-8538d0d6e758",
      "metadata": {
        "jp-MarkdownHeadingCollapsed": true,
        "id": "fadb41fd-49ce-4cd7-b15c-8538d0d6e758",
        "colab": {
          "base_uri": "https://localhost:8080/"
        },
        "outputId": "f407b1d7-c114-4e91-f97a-a1378fedfc6e"
      },
      "outputs": [
        {
          "output_type": "stream",
          "name": "stdout",
          "text": [
            "1\n",
            "2\n",
            "3\n",
            "4\n",
            "5\n",
            "6\n",
            "7\n",
            "8\n",
            "9\n",
            "10\n"
          ]
        }
      ],
      "source": [
        "# 1. Print numbers from 1 to 10\n",
        "# Output:\n",
        "# 1\n",
        "# 2\n",
        "# ...\n",
        "# 10\n",
        "\n",
        "counter = 1\n",
        "while counter <= 10:\n",
        "    print(counter)\n",
        "    counter = counter + 1"
      ]
    },
    {
      "cell_type": "code",
      "execution_count": 2,
      "id": "f9399dde-a7a3-4918-baf3-ff7b35eded7f",
      "metadata": {
        "jp-MarkdownHeadingCollapsed": true,
        "colab": {
          "base_uri": "https://localhost:8080/"
        },
        "id": "f9399dde-a7a3-4918-baf3-ff7b35eded7f",
        "outputId": "2b6ed9f9-aae7-4924-fb33-803c1503d0eb"
      },
      "outputs": [
        {
          "output_type": "stream",
          "name": "stdout",
          "text": [
            "2\n",
            "4\n",
            "6\n",
            "8\n",
            "10\n",
            "12\n",
            "14\n",
            "16\n",
            "18\n",
            "20\n",
            "\n",
            "\n",
            "\n",
            "1\n",
            "4\n",
            "9\n",
            "16\n",
            "25\n"
          ]
        }
      ],
      "source": [
        "# 2. Print even numbers between 1 and 20\n",
        "# Output:\n",
        "# 2, 4, 6, ..., 20\n",
        "# 3. Print the square of numbers from 1 to 5\n",
        "# Output:\n",
        "# 1 4 9 16 25\n",
        "\n",
        "numbers = [1, 2, 3, 4, 5, 6, 7, 8, 9 ,10, 11, 12, 13, 14, 15, 16, 17,18,19,20]\n",
        "for number in numbers:\n",
        "  if number % 2 == 0:\n",
        "    print(number)\n",
        "\n",
        "print(\"\\n\\n\")\n",
        "numbers = [1, 2, 3, 4, 5]\n",
        "for number in numbers:\n",
        "  print(number * number)\n"
      ]
    },
    {
      "cell_type": "code",
      "execution_count": 3,
      "id": "d5ee7226-239e-45fe-86a9-a9f37a7dded1",
      "metadata": {
        "jp-MarkdownHeadingCollapsed": true,
        "id": "d5ee7226-239e-45fe-86a9-a9f37a7dded1",
        "colab": {
          "base_uri": "https://localhost:8080/"
        },
        "outputId": "fdfc73ee-f047-4735-f2e7-5f053cf25ff3"
      },
      "outputs": [
        {
          "output_type": "stream",
          "name": "stdout",
          "text": [
            "P\n",
            "y\n",
            "t\n",
            "h\n",
            "o\n",
            "n\n"
          ]
        }
      ],
      "source": [
        "# 4. Print each character in the word \"Python\"\n",
        "# Output:\n",
        "# P\n",
        "# y\n",
        "# t\n",
        "# h\n",
        "# o\n",
        "# n\n",
        "\n",
        "python = \"Python\"\n",
        "for char in python:\n",
        "    print(char)"
      ]
    },
    {
      "cell_type": "code",
      "execution_count": 5,
      "id": "cecef65b-7f15-44a8-a92d-cd9dcb036ae7",
      "metadata": {
        "jp-MarkdownHeadingCollapsed": true,
        "id": "cecef65b-7f15-44a8-a92d-cd9dcb036ae7",
        "colab": {
          "base_uri": "https://localhost:8080/"
        },
        "outputId": "3f4f4691-3854-4916-b81d-67fd1bb9936d"
      },
      "outputs": [
        {
          "output_type": "stream",
          "name": "stdout",
          "text": [
            "Alice\n",
            "Bob\n",
            "Charlie\n"
          ]
        }
      ],
      "source": [
        "# 5. Loop through this list and print names:\n",
        "names = [\"Alice\", \"Bob\", \"Charlie\"]\n",
        "for name in names:\n",
        "  print(name)"
      ]
    },
    {
      "cell_type": "code",
      "execution_count": 6,
      "id": "2a5f2161-dcbd-4440-a262-0866f39a1a98",
      "metadata": {
        "jp-MarkdownHeadingCollapsed": true,
        "id": "2a5f2161-dcbd-4440-a262-0866f39a1a98",
        "colab": {
          "base_uri": "https://localhost:8080/"
        },
        "outputId": "597d86f8-f4be-4694-e695-d76f8f5c6ced"
      },
      "outputs": [
        {
          "output_type": "stream",
          "name": "stdout",
          "text": [
            "5\n",
            "4\n",
            "3\n",
            "2\n",
            "1\n"
          ]
        }
      ],
      "source": [
        "# 6. Print numbers from 5 to 1\n",
        "# Output:\n",
        "# 5\n",
        "# 4\n",
        "# 3\n",
        "# 2\n",
        "# 1\n",
        "\n",
        "numbers = [5, 4, 3, 2, 1]\n",
        "for number in numbers:\n",
        "    print(number)"
      ]
    },
    {
      "cell_type": "code",
      "execution_count": 8,
      "id": "a0e44b26-12b4-4975-9402-642473541d0a",
      "metadata": {
        "jp-MarkdownHeadingCollapsed": true,
        "id": "a0e44b26-12b4-4975-9402-642473541d0a",
        "colab": {
          "base_uri": "https://localhost:8080/"
        },
        "outputId": "53c86df9-7d97-4778-e6d9-df19e992f1e3"
      },
      "outputs": [
        {
          "output_type": "stream",
          "name": "stdout",
          "text": [
            "Enter your password:secrrret\n",
            "Try again...\n",
            "Enter your password:secret\n",
            "Correct!\n"
          ]
        }
      ],
      "source": [
        "# 7. Keep asking the user to enter a password until they type \"secret\"\n",
        "# Output:\n",
        "# Try again... until correct\n",
        "\n",
        "password = input(\"Enter your password:\")\n",
        "while password != \"secret\":\n",
        "    print(\"Try again...\")\n",
        "    password = input(\"Enter your password:\")\n",
        "print(\"Correct!\")"
      ]
    },
    {
      "cell_type": "code",
      "execution_count": 9,
      "id": "cb82d589-6bb5-4cb8-9e03-cb875dd26aaa",
      "metadata": {
        "jp-MarkdownHeadingCollapsed": true,
        "id": "cb82d589-6bb5-4cb8-9e03-cb875dd26aaa",
        "colab": {
          "base_uri": "https://localhost:8080/"
        },
        "outputId": "1d9c54ba-8c5c-4fe4-cdf4-3697af69f4dc"
      },
      "outputs": [
        {
          "output_type": "stream",
          "name": "stdout",
          "text": [
            "Enter a number: 5\n",
            "Enter a number: 3\n",
            "Enter a number: 0\n",
            "Total: 8\n"
          ]
        }
      ],
      "source": [
        "# 8. Ask the user to enter numbers until they enter 0. Then print the sum.\n",
        "# Input:\n",
        "# 5\n",
        "# 3\n",
        "# 0\n",
        "# Output:\n",
        "# Total: 8\n",
        "\n",
        "total = 0\n",
        "number = int(input(\"Enter a number: \"))\n",
        "while number != 0:\n",
        "    total += number\n",
        "    number = int(input(\"Enter a number: \"))\n",
        "print(\"Total:\", total)"
      ]
    },
    {
      "cell_type": "code",
      "execution_count": 10,
      "id": "cf65e3cb-bbbf-4fe2-83ab-4b39059c09e7",
      "metadata": {
        "jp-MarkdownHeadingCollapsed": true,
        "colab": {
          "base_uri": "https://localhost:8080/"
        },
        "id": "cf65e3cb-bbbf-4fe2-83ab-4b39059c09e7",
        "outputId": "e05f103c-cdd8-407c-d11a-2f0049f308b6"
      },
      "outputs": [
        {
          "output_type": "stream",
          "name": "stdout",
          "text": [
            "18\n",
            "15\n",
            "12\n",
            "9\n",
            "6\n",
            "3\n"
          ]
        }
      ],
      "source": [
        "# 9. Print all numbers from 1 to 20 that are divisible by 3\n",
        "# Output:\n",
        "# 3 6 9 12 15 18\n",
        "\n",
        "counter = 20\n",
        "while counter > 0:\n",
        "    if counter % 3 == 0:\n",
        "        print(counter)\n",
        "    counter -= 1"
      ]
    },
    {
      "cell_type": "code",
      "execution_count": 11,
      "id": "2d6e59ea-9f9d-4f46-aa30-16e564ce52f2",
      "metadata": {
        "jp-MarkdownHeadingCollapsed": true,
        "id": "2d6e59ea-9f9d-4f46-aa30-16e564ce52f2",
        "colab": {
          "base_uri": "https://localhost:8080/"
        },
        "outputId": "eb2bbbf5-60ea-4512-b594-e7bda41a4690"
      },
      "outputs": [
        {
          "output_type": "stream",
          "name": "stdout",
          "text": [
            "7\n",
            "13\n",
            "19\n"
          ]
        }
      ],
      "source": [
        "# 10. From this list, print only the odd numbers:\n",
        "numbers = [4, 7, 10, 13, 16, 19]\n",
        "for number in numbers:\n",
        "    if number % 2 != 0:\n",
        "        print(number)"
      ]
    },
    {
      "cell_type": "code",
      "execution_count": 16,
      "id": "88d0a54e-de16-4c70-9600-c1e0747353dc",
      "metadata": {
        "jp-MarkdownHeadingCollapsed": true,
        "id": "88d0a54e-de16-4c70-9600-c1e0747353dc",
        "colab": {
          "base_uri": "https://localhost:8080/"
        },
        "outputId": "de8d5331-8260-41fd-abfb-759a8dd00f05"
      },
      "outputs": [
        {
          "output_type": "stream",
          "name": "stdout",
          "text": [
            "Apple appears 3 times\n"
          ]
        }
      ],
      "source": [
        "# 11. Count how many times \"apple\" appears in the list:\n",
        "fruits = [\"apple\", \"banana\", \"apple\", \"cherry\", \"apple\"]\n",
        "for fruit in fruits:\n",
        "    if fruit == \"apple\":\n",
        "      print(\"Apple appears\", fruits.count(\"apple\"), \"times\")\n",
        "      break"
      ]
    },
    {
      "cell_type": "code",
      "execution_count": 17,
      "id": "07708d8b-e871-49cd-b93e-da49b64b6b54",
      "metadata": {
        "jp-MarkdownHeadingCollapsed": true,
        "colab": {
          "base_uri": "https://localhost:8080/"
        },
        "id": "07708d8b-e871-49cd-b93e-da49b64b6b54",
        "outputId": "870d0cea-f5c9-4d2f-d835-9e4b31dffde0"
      },
      "outputs": [
        {
          "output_type": "stream",
          "name": "stdout",
          "text": [
            "olleh\n"
          ]
        }
      ],
      "source": [
        "# 12. Use a loop to reverse a string:\n",
        "# Input:\n",
        "# \"hello\"\n",
        "# Output:\n",
        "# \"olleh\"\n",
        "\n",
        "name = \"hello\"\n",
        "reversed_name = \"\"\n",
        "for char in name:\n",
        "    reversed_name = char + reversed_name\n",
        "print(reversed_name)"
      ]
    },
    {
      "cell_type": "code",
      "execution_count": 18,
      "id": "04919b85-d347-4bf2-985b-bfba021b37ac",
      "metadata": {
        "jp-MarkdownHeadingCollapsed": true,
        "colab": {
          "base_uri": "https://localhost:8080/"
        },
        "id": "04919b85-d347-4bf2-985b-bfba021b37ac",
        "outputId": "98dacc3b-c851-4423-fecd-5bb7ad93fb08"
      },
      "outputs": [
        {
          "output_type": "stream",
          "name": "stdout",
          "text": [
            "*\n",
            "**\n",
            "***\n",
            "****\n",
            "*****\n"
          ]
        }
      ],
      "source": [
        "# 13. Print a simple triangle of stars:\n",
        "# Output:\n",
        "# *\n",
        "# **\n",
        "# ***\n",
        "# ****\n",
        "# *****\n",
        "\n",
        "counter = 1\n",
        "while counter <= 5:\n",
        "    print(\"*\" * counter)\n",
        "    counter += 1"
      ]
    },
    {
      "cell_type": "code",
      "execution_count": 20,
      "id": "e943a0c7-96c3-42d9-a56c-8154e1fa57ac",
      "metadata": {
        "jp-MarkdownHeadingCollapsed": true,
        "id": "e943a0c7-96c3-42d9-a56c-8154e1fa57ac",
        "colab": {
          "base_uri": "https://localhost:8080/"
        },
        "outputId": "fc76082e-f040-4267-e48d-985fc4a6ab65"
      },
      "outputs": [
        {
          "output_type": "stream",
          "name": "stdout",
          "text": [
            "Enter a number: 5\n",
            "The factorial of 5 is 120\n"
          ]
        }
      ],
      "source": [
        "# 14. Use a loop to calculate the factorial of a number:\n",
        "# Input:\n",
        "# 5\n",
        "# Output:\n",
        "# 120\n",
        "\n",
        "numb_er = int(input(\"Enter a number: \"))\n",
        "factorial = 1\n",
        "for i in range(1, numb_er + 1):\n",
        "    factorial *= i\n",
        "print(\"The factorial of\", numb_er, \"is\", factorial)"
      ]
    },
    {
      "cell_type": "code",
      "execution_count": 21,
      "id": "e1d18ff1-abcc-46ac-8c52-07228657ef49",
      "metadata": {
        "jp-MarkdownHeadingCollapsed": true,
        "id": "e1d18ff1-abcc-46ac-8c52-07228657ef49",
        "colab": {
          "base_uri": "https://localhost:8080/"
        },
        "outputId": "922f387e-addd-4ded-af6d-27e6c730e36c"
      },
      "outputs": [
        {
          "output_type": "stream",
          "name": "stdout",
          "text": [
            "1\n",
            "2\n",
            "Hit\n",
            "4\n",
            "Miss\n",
            "Hit\n",
            "7\n",
            "8\n",
            "Hit\n",
            "Miss\n",
            "11\n",
            "Hit\n",
            "13\n",
            "14\n",
            "Jackpot\n",
            "16\n",
            "17\n",
            "Hit\n",
            "19\n",
            "Miss\n",
            "Hit\n",
            "22\n",
            "23\n",
            "Hit\n",
            "Miss\n",
            "26\n",
            "Hit\n",
            "28\n",
            "29\n",
            "Jackpot\n",
            "31\n",
            "32\n",
            "Hit\n",
            "34\n",
            "Miss\n",
            "Hit\n",
            "37\n",
            "38\n",
            "Hit\n",
            "Miss\n",
            "41\n",
            "Hit\n",
            "43\n",
            "44\n",
            "Jackpot\n",
            "46\n",
            "47\n",
            "Hit\n",
            "49\n",
            "Miss\n",
            "Hit\n",
            "52\n",
            "53\n",
            "Hit\n",
            "Miss\n",
            "56\n",
            "Hit\n",
            "58\n",
            "59\n",
            "Jackpot\n",
            "61\n",
            "62\n",
            "Hit\n",
            "64\n",
            "Miss\n",
            "Hit\n",
            "67\n",
            "68\n",
            "Hit\n",
            "Miss\n",
            "71\n",
            "Hit\n",
            "73\n",
            "74\n",
            "Jackpot\n",
            "76\n",
            "77\n",
            "Hit\n",
            "79\n",
            "Miss\n",
            "Hit\n",
            "82\n",
            "83\n",
            "Hit\n",
            "Miss\n",
            "86\n",
            "Hit\n",
            "88\n",
            "89\n",
            "Jackpot\n",
            "91\n",
            "92\n",
            "Hit\n",
            "94\n",
            "Miss\n",
            "Hit\n",
            "97\n",
            "98\n",
            "Hit\n",
            "Miss\n"
          ]
        }
      ],
      "source": [
        "# 15. Loop from 1 to 100 and:\n",
        "# Print \"Hit\" if divisible by 3\n",
        "# Print \"Miss\" if divisible by 5\n",
        "# Print \"Jackpot\" if divisible by both\n",
        "\n",
        "for i in range(1, 101):\n",
        "    if i % 3 == 0 and i % 5 == 0:\n",
        "        print(\"Jackpot\")\n",
        "        continue\n",
        "    if i % 3 == 0:\n",
        "        print(\"Hit\")\n",
        "        continue\n",
        "    if i % 5 == 0:\n",
        "        print(\"Miss\")\n",
        "        continue\n",
        "    print(i)"
      ]
    },
    {
      "cell_type": "code",
      "execution_count": 22,
      "id": "9c87b775-4ba0-4730-9a88-d6f9cb46ec49",
      "metadata": {
        "jp-MarkdownHeadingCollapsed": true,
        "colab": {
          "base_uri": "https://localhost:8080/"
        },
        "id": "9c87b775-4ba0-4730-9a88-d6f9cb46ec49",
        "outputId": "aa558c51-91c1-435b-ff73-a11fb2bfd3d1"
      },
      "outputs": [
        {
          "output_type": "stream",
          "name": "stdout",
          "text": [
            "How many students are in the class? 3\n",
            "Enter the name of the student: Zam Z\n",
            "Enter the name of the student: Kci\n",
            "Enter the name of the student: Bravo\n",
            "['Zam Z', 'Kci', 'Bravo']\n"
          ]
        }
      ],
      "source": [
        "# 16. Ask the user how many students are in a class. Then loop to enter each student’s name and save them to a list. Finally, print the list of students.\n",
        "\n",
        "no_of_students = int(input(\"How many students are in the class? \"))\n",
        "student_list = []\n",
        "while no_of_students > 0:\n",
        "    student_name = input(\"Enter the name of the student: \")\n",
        "    student_list.append(student_name)\n",
        "    no_of_students = no_of_students - 1\n",
        "print(student_list)"
      ]
    },
    {
      "cell_type": "code",
      "execution_count": 24,
      "id": "3866510c-82f0-4a99-8b41-caf51e945b87",
      "metadata": {
        "id": "3866510c-82f0-4a99-8b41-caf51e945b87",
        "colab": {
          "base_uri": "https://localhost:8080/"
        },
        "outputId": "5dcb32fc-1bcb-4251-91a0-edc1d42dd8be"
      },
      "outputs": [
        {
          "output_type": "stream",
          "name": "stdout",
          "text": [
            "3 Hit\n",
            "5 Miss\n",
            "6 Hit\n",
            "9 Hit\n",
            "10 Miss\n",
            "12 Hit\n",
            "15 Jackpot\n",
            "18 Hit\n",
            "20 Miss\n",
            "21 Hit\n",
            "24 Hit\n",
            "25 Miss\n",
            "27 Hit\n",
            "30 Jackpot\n",
            "33 Hit\n",
            "35 Miss\n",
            "36 Hit\n",
            "39 Hit\n",
            "40 Miss\n",
            "42 Hit\n",
            "45 Jackpot\n",
            "48 Hit\n",
            "50 Miss\n",
            "51 Hit\n",
            "54 Hit\n",
            "55 Miss\n",
            "57 Hit\n",
            "60 Jackpot\n",
            "63 Hit\n",
            "65 Miss\n",
            "66 Hit\n",
            "69 Hit\n",
            "70 Miss\n",
            "72 Hit\n",
            "75 Jackpot\n",
            "78 Hit\n",
            "80 Miss\n",
            "81 Hit\n",
            "84 Hit\n",
            "85 Miss\n",
            "87 Hit\n",
            "90 Jackpot\n",
            "93 Hit\n",
            "95 Miss\n",
            "96 Hit\n",
            "99 Hit\n",
            "100 Miss\n"
          ]
        }
      ],
      "source": [
        "#alt code for #15\n",
        "# 15. Loop from 1 to 100 and:\n",
        "# Print \"Hit\" if divisible by 3\n",
        "# Print \"Miss\" if divisible by 5\n",
        "# Print \"Jackpot\" if divisible by both\n",
        "\n",
        "for i in range(1, 101):\n",
        "    if i % 3 == 0 and i % 5 == 0:\n",
        "        print(i, \"Jackpot\")\n",
        "    elif i % 3 == 0:\n",
        "        print(i, \"Hit\")\n",
        "    elif i % 5 == 0:\n",
        "        print(i, \"Miss\")\n"
      ]
    },
    {
      "cell_type": "code",
      "source": [],
      "metadata": {
        "id": "X2Sj0vyKPBC8"
      },
      "id": "X2Sj0vyKPBC8",
      "execution_count": null,
      "outputs": []
    }
  ],
  "metadata": {
    "kernelspec": {
      "display_name": "Python [conda env:base] *",
      "language": "python",
      "name": "conda-base-py"
    },
    "language_info": {
      "codemirror_mode": {
        "name": "ipython",
        "version": 3
      },
      "file_extension": ".py",
      "mimetype": "text/x-python",
      "name": "python",
      "nbconvert_exporter": "python",
      "pygments_lexer": "ipython3",
      "version": "3.12.7"
    },
    "colab": {
      "provenance": [],
      "include_colab_link": true
    }
  },
  "nbformat": 4,
  "nbformat_minor": 5
}