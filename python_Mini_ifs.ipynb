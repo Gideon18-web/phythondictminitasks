{
  "cells": [
    {
      "cell_type": "markdown",
      "metadata": {
        "id": "view-in-github",
        "colab_type": "text"
      },
      "source": [
        "<a href=\"https://colab.research.google.com/github/Gideon18-web/phythondictminitasks/blob/main/python_Mini_ifs.ipynb\" target=\"_parent\"><img src=\"https://colab.research.google.com/assets/colab-badge.svg\" alt=\"Open In Colab\"/></a>"
      ]
    },
    {
      "cell_type": "markdown",
      "id": "633aa2ce-62cd-4b3b-b177-05c119fac55e",
      "metadata": {
        "id": "633aa2ce-62cd-4b3b-b177-05c119fac55e"
      },
      "source": [
        "### practice on how to use if, elif, else / and, or, not"
      ]
    },
    {
      "cell_type": "code",
      "execution_count": 2,
      "id": "045cd2ca-73fa-479c-8d9f-2de0ad171d2c",
      "metadata": {
        "colab": {
          "base_uri": "https://localhost:8080/"
        },
        "id": "045cd2ca-73fa-479c-8d9f-2de0ad171d2c",
        "outputId": "49f394ee-c52c-4032-f511-d2ded79d7f62"
      },
      "outputs": [
        {
          "output_type": "stream",
          "name": "stdout",
          "text": [
            "Enter a number: 5\n",
            "Positive number\n"
          ]
        }
      ],
      "source": [
        "# 1. Write a program that checks if a number is positive.\n",
        "# Input: 5\n",
        "# Output: Positive number\n",
        "\n",
        "num = int(input(\"Enter a number: \"))\n",
        "if num > 0:\n",
        "    print(\"Positive number\")\n",
        "else:\n",
        "    print(\"Not a positive number\")\n"
      ]
    },
    {
      "cell_type": "code",
      "execution_count": 3,
      "id": "c3426473-e823-4c69-9896-6a3307edb695",
      "metadata": {
        "colab": {
          "base_uri": "https://localhost:8080/"
        },
        "id": "c3426473-e823-4c69-9896-6a3307edb695",
        "outputId": "0fd10e30-8e60-47fc-a375-bb311df6e8dd"
      },
      "outputs": [
        {
          "output_type": "stream",
          "name": "stdout",
          "text": [
            "Enter a number 7\n",
            "Odd number\n"
          ]
        }
      ],
      "source": [
        "# 2. Check if a given number is even or odd.\n",
        "# Input: 7\n",
        "# Output: Odd number\n",
        "\n",
        "num = int(input(\"Enter a number \"))\n",
        "if num%2 == 0:\n",
        "  print(\"Even number\")\n",
        "else:\n",
        "  print(\"Odd number\")"
      ]
    },
    {
      "cell_type": "code",
      "execution_count": 4,
      "id": "79b20101-7cf8-43d5-a85f-4ecd04cefc1a",
      "metadata": {
        "colab": {
          "base_uri": "https://localhost:8080/"
        },
        "id": "79b20101-7cf8-43d5-a85f-4ecd04cefc1a",
        "outputId": "ce7b93fb-4c76-404e-cbbf-ca10ac8b2983"
      },
      "outputs": [
        {
          "output_type": "stream",
          "name": "stdout",
          "text": [
            "Enter your age: 16\n",
            "You are not an Adult \n"
          ]
        }
      ],
      "source": [
        "# 3. Ask the user for their age. If they are 18 or older, print \"You are an adult.\"\n",
        "\n",
        "age = int(input(\"Enter your age: \"))\n",
        "if age >= 18:\n",
        "  print(\"You are an Adult \")\n",
        "else:\n",
        "  print(\"You are not an Adult \")"
      ]
    },
    {
      "cell_type": "code",
      "execution_count": 5,
      "id": "3f11821a-57e9-4615-97c9-4724bd31801e",
      "metadata": {
        "colab": {
          "base_uri": "https://localhost:8080/"
        },
        "id": "3f11821a-57e9-4615-97c9-4724bd31801e",
        "outputId": "1361eeb7-189f-4102-b794-c161da4413d5"
      },
      "outputs": [
        {
          "output_type": "stream",
          "name": "stdout",
          "text": [
            "Enter a password secret\n",
            "Access granted\n"
          ]
        }
      ],
      "source": [
        "# 4. Ask the user to enter a password. If it matches \"secret\", print \"Access granted\"; otherwise, print \"Wrong password\".\n",
        "\n",
        "password = input(\"Enter a password \")\n",
        "if password == \"secret\":\n",
        "  print(\"Access granted\")\n",
        "else:\n",
        "  print(\"Wrong password\")"
      ]
    },
    {
      "cell_type": "code",
      "execution_count": 6,
      "id": "fa2f9839-006f-45e8-b259-a5a7421a5aeb",
      "metadata": {
        "colab": {
          "base_uri": "https://localhost:8080/"
        },
        "id": "fa2f9839-006f-45e8-b259-a5a7421a5aeb",
        "outputId": "ff69304f-9012-48d4-88f4-57fbcace85b8"
      },
      "outputs": [
        {
          "output_type": "stream",
          "name": "stdout",
          "text": [
            "Enter a number 79\n",
            "Odd number\n"
          ]
        }
      ],
      "source": [
        "# 5. Ask the user for a number and print whether it is even or odd.\n",
        "\n",
        "num = int(input(\"Enter a number \"))\n",
        "if num%2 == 0:\n",
        "  print(\"Even number\")\n",
        "else:\n",
        "  print(\"Odd number\")"
      ]
    },
    {
      "cell_type": "code",
      "execution_count": 7,
      "id": "6a8b081a-bbda-437b-8e0c-c58dce7d01d1",
      "metadata": {
        "colab": {
          "base_uri": "https://localhost:8080/"
        },
        "id": "6a8b081a-bbda-437b-8e0c-c58dce7d01d1",
        "outputId": "b2d2e7e9-f75e-447a-eceb-821f4e5e453f"
      },
      "outputs": [
        {
          "output_type": "stream",
          "name": "stdout",
          "text": [
            "Enter a number 963\n",
            "Hit\n"
          ]
        }
      ],
      "source": [
        "# 6. Check whether a number is divisible by 3 given by a user. If it is, print \"Hit\"; otherwise, print \"Miss\".\n",
        "\n",
        "num = int(input(\"Enter a number \"))\n",
        "if num%3 == 0:\n",
        "  print(\"Hit\")\n",
        "else:\n",
        "  print(\"Miss\")\n",
        ""
      ]
    },
    {
      "cell_type": "code",
      "execution_count": 8,
      "id": "53650feb-792d-49ce-97d7-db602397df81",
      "metadata": {
        "id": "53650feb-792d-49ce-97d7-db602397df81",
        "colab": {
          "base_uri": "https://localhost:8080/"
        },
        "outputId": "8e265b82-0212-4cec-bf1e-25dd416b3726"
      },
      "outputs": [
        {
          "output_type": "stream",
          "name": "stdout",
          "text": [
            "Enter a number 000\n",
            "Zero\n"
          ]
        }
      ],
      "source": [
        "# 7. Ask the user for a number and print whether it is positive, negative, or zero.\n",
        "\n",
        "num = int(input(\"Enter a number \"))\n",
        "if num > 0:\n",
        "  print(\"Positive number\")\n",
        "elif num < 0:\n",
        "  print(\"Negative number\")\n",
        "else:\n",
        "  print(\"Zero\")"
      ]
    },
    {
      "cell_type": "code",
      "execution_count": 9,
      "id": "896e8d7e-1c5c-4501-a297-56a66cf0f56b",
      "metadata": {
        "id": "896e8d7e-1c5c-4501-a297-56a66cf0f56b",
        "colab": {
          "base_uri": "https://localhost:8080/"
        },
        "outputId": "f8d11bc5-aadf-44b4-a6c6-2509196bc2f7"
      },
      "outputs": [
        {
          "output_type": "stream",
          "name": "stdout",
          "text": [
            "Enter a grade 79\n",
            "B\n"
          ]
        }
      ],
      "source": [
        "# 8. Ask for a grade (0–100) and print:\n",
        "# \"A\" if 80 and above\n",
        "# \"B\" if 60–79\n",
        "# \"C\" if 40–59\n",
        "# \"F\" if below 40\n",
        "\n",
        "grade = int(input(\"Enter a grade \"))\n",
        "if grade >= 80:\n",
        "  print(\"A\")\n",
        "\n",
        "elif grade >= 60:\n",
        "  print(\"B\")\n",
        "\n",
        "elif grade >= 40:\n",
        "  print(\"C\")\n",
        "\n",
        "else:\n",
        "  print(\"F\")"
      ]
    },
    {
      "cell_type": "code",
      "execution_count": 10,
      "id": "b5caba9f-2a47-4661-a2a1-dc43eb26f302",
      "metadata": {
        "id": "b5caba9f-2a47-4661-a2a1-dc43eb26f302",
        "colab": {
          "base_uri": "https://localhost:8080/"
        },
        "outputId": "f561c068-1d5c-4ab7-8cf4-f1e98a2a0906"
      },
      "outputs": [
        {
          "output_type": "stream",
          "name": "stdout",
          "text": [
            "Enter first number 67\n",
            "Enter second number 90\n",
            "Enter operator *\n",
            "Result: 6030\n"
          ]
        }
      ],
      "source": [
        "# 9. Create a simple calculator:\n",
        "# Ask for two numbers and an operator (+, -, *, /)\n",
        "# Use if statements to compute the result\n",
        "\n",
        "num_1 = int(input(\"Enter first number \"))\n",
        "num_2 = int(input(\"Enter second number \"))\n",
        "operator = input(\"Enter operator \")\n",
        "\n",
        "if operator == \"+\":\n",
        "  print(\"Result:\", num_1 + num_2)\n",
        "\n",
        "elif operator == \"-\":\n",
        "  print(\"Result:\", num_1 - num_2)\n",
        "\n",
        "\n",
        "elif operator == \"*\":\n",
        "  print(\"Result:\", num_1 * num_2)\n",
        "\n",
        "elif operator == \"/\":\n",
        "  if num_2 != 0:\n",
        "        print(\"Result:\", num_1 / num_2)\n",
        "  else:\n",
        "        print(\"Cannot divide by zero.\")\n",
        "else:\n",
        "    print(\"Invalid operator.\")\n",
        "\n"
      ]
    },
    {
      "cell_type": "code",
      "execution_count": 11,
      "id": "fe1a788d-3294-41a5-aa4e-fe327f67fb52",
      "metadata": {
        "id": "fe1a788d-3294-41a5-aa4e-fe327f67fb52",
        "colab": {
          "base_uri": "https://localhost:8080/"
        },
        "outputId": "d8e5cf21-e8e9-4810-e1de-bf6addbc6f4e"
      },
      "outputs": [
        {
          "output_type": "stream",
          "name": "stdout",
          "text": [
            "Enter your age 16\n",
            "Teenager\n"
          ]
        }
      ],
      "source": [
        "# 10. Ask the user for their age. If they are between 13 and 19 (inclusive), print \"Teenager\".\n",
        "\n",
        "user_age = int(input(\"Enter your age \"))\n",
        "if user_age >= 13 and user_age <= 19:\n",
        "  print(\"Teenager\")\n",
        "else:\n",
        "  print(\"Not a teenager\")"
      ]
    },
    {
      "cell_type": "code",
      "execution_count": 20,
      "id": "1ea00dbf-1b31-4a33-a673-37e64c00bec3",
      "metadata": {
        "id": "1ea00dbf-1b31-4a33-a673-37e64c00bec3",
        "colab": {
          "base_uri": "https://localhost:8080/"
        },
        "outputId": "dd9dc989-a2df-4264-c535-cdfb38b5172a"
      },
      "outputs": [
        {
          "output_type": "stream",
          "name": "stdout",
          "text": [
            "Enter a year 2024\n",
            "Leap year\n"
          ]
        }
      ],
      "source": [
        "# 11. Check if a year is a leap year:\n",
        "# leap years are those that are divisible by 4 e.g. 2020\n",
        "# leap years are not divisible by 100 except for those that are also divisible by 400\n",
        "\n",
        "year = int(input(\"Enter a year \"))\n",
        "if (year % 4 == 0 and year % 100 != 0) or (year % 400 == 0):\n",
        "    print(\"Leap year\")\n",
        "else:\n",
        "    print(\"Not a leap year\")\n"
      ]
    },
    {
      "cell_type": "code",
      "execution_count": 25,
      "id": "1205bda1-fb79-490b-87f2-bfb7ad31cf5f",
      "metadata": {
        "id": "1205bda1-fb79-490b-87f2-bfb7ad31cf5f",
        "colab": {
          "base_uri": "https://localhost:8080/"
        },
        "outputId": "21cda21e-af84-4aaf-8641-1d23236b126b"
      },
      "outputs": [
        {
          "output_type": "stream",
          "name": "stdout",
          "text": [
            "Enter your username admin\n",
            "Enter your password password123\n",
            "Login successful\n"
          ]
        }
      ],
      "source": [
        "# 12. Ask for a password and username. Allow login only if both match the correct values.\n",
        "\n",
        "user_name = \"admin\"\n",
        "password = \"password123\"\n",
        "\n",
        "user_name_log_in = input(\"Enter your username \")\n",
        "password_login = input(\"Enter your password \")\n",
        "\n",
        "if user_name_log_in == user_name and password_login == password:\n",
        "  print(\"Login successful\")\n",
        "else:\n",
        "  print(\"Login failed\")"
      ]
    },
    {
      "cell_type": "code",
      "execution_count": 28,
      "id": "800d597a-86b4-432b-9f0d-602e56fcdec2",
      "metadata": {
        "id": "800d597a-86b4-432b-9f0d-602e56fcdec2",
        "colab": {
          "base_uri": "https://localhost:8080/"
        },
        "outputId": "3a8413fa-63df-4abc-9f9d-099964e221ff"
      },
      "outputs": [
        {
          "output_type": "stream",
          "name": "stdout",
          "text": [
            "Enter your username admin\n",
            "Enter your password password123\n",
            "Welcome, admin!\n"
          ]
        }
      ],
      "source": [
        "# 13.Ask for a username. If it is \"admin\", then ask for a password. If both are correct, print \"Welcome, admin!\"\n",
        "\n",
        "user_name = \"admin\"\n",
        "password = \"password123\"\n",
        "\n",
        "user_name_log_in = input(\"Enter your username \")\n",
        "if user_name == user_name_log_in:\n",
        "  password_login = input(\"Enter your password \")\n",
        "  if password == password_login:\n",
        "    print(\"Welcome, admin!\")\n",
        "  else:\n",
        "    print(\"Login failed\")\n",
        "else:\n",
        "  print(\"Login failed\")"
      ]
    },
    {
      "cell_type": "code",
      "execution_count": 29,
      "id": "17d635f5-518e-46fb-88a2-e107aa0bf130",
      "metadata": {
        "id": "17d635f5-518e-46fb-88a2-e107aa0bf130",
        "colab": {
          "base_uri": "https://localhost:8080/"
        },
        "outputId": "8e077ee4-f802-43b3-8092-830c2ffcb455"
      },
      "outputs": [
        {
          "output_type": "stream",
          "name": "stdout",
          "text": [
            "Enter first number 23\n",
            "Enter second number 56\n",
            "One is even\n"
          ]
        }
      ],
      "source": [
        "# 14. Ask a user to enter two numbers. If both numbers are even, print \"Both are even\"; if one is even, print \"One is even\"; otherwise print \"None are even\".\n",
        "\n",
        "num_1 = int(input(\"Enter first number \"))\n",
        "num_2 = int(input(\"Enter second number \"))\n",
        "\n",
        "if num_1 % 2 == 0 and num_2 % 2 == 0:\n",
        "  print(\"Both are even\")\n",
        "elif num_1 % 2 == 0 or num_2 % 2 == 0:\n",
        "  print(\"One is even\")\n",
        "else:\n",
        "  print(\"None are even\")"
      ]
    },
    {
      "cell_type": "code",
      "execution_count": 32,
      "id": "0ce02b24-1df8-4b1f-8ce9-e11e03c57932",
      "metadata": {
        "id": "0ce02b24-1df8-4b1f-8ce9-e11e03c57932",
        "colab": {
          "base_uri": "https://localhost:8080/"
        },
        "outputId": "bc79e7fb-7fed-44ad-ac02-ee0655acfe45"
      },
      "outputs": [
        {
          "output_type": "stream",
          "name": "stdout",
          "text": [
            "Enter marks in subject 1 67\n",
            "Enter marks in subject 2 89\n",
            "Enter marks in subject 3 35\n",
            "Average: 63.666666666666664\n",
            "Passed\n"
          ]
        }
      ],
      "source": [
        "# 15. Ask the user for marks in three subjects. If the average is above 50, print \"Passed\"; otherwise, print \"Failed\".\n",
        "\n",
        "subject_1 = int(input(\"Enter marks in subject 1 \"))\n",
        "subject_2 = int(input(\"Enter marks in subject 2 \"))\n",
        "subject_3 = int(input(\"Enter marks in subject 3 \"))\n",
        "\n",
        "average = (subject_1 + subject_2 + subject_3) / 3\n",
        "print(\"Average:\", average)\n",
        "if average > 50:\n",
        "  print(\"Passed\")\n",
        "else:\n",
        "  print(\"Failed\")"
      ]
    },
    {
      "cell_type": "code",
      "execution_count": 34,
      "id": "6439a058-6433-4064-a58f-2eeb3138ad25",
      "metadata": {
        "id": "6439a058-6433-4064-a58f-2eeb3138ad25",
        "colab": {
          "base_uri": "https://localhost:8080/"
        },
        "outputId": "26162234-5f55-486e-8071-322e5dd59ed2"
      },
      "outputs": [
        {
          "output_type": "stream",
          "name": "stdout",
          "text": [
            "Let's play Rock, Paper, Scissors!\n",
            "Player 1 - Enter rock, paper, or scissors: rock\n",
            "Player 2 - Enter rock, paper, or scissors: rock\n",
            "It's a tie! Play again.\n",
            "\n",
            "Let's play Rock, Paper, Scissors!\n",
            "Player 1 - Enter rock, paper, or scissors: paper\n",
            "Player 2 - Enter rock, paper, or scissors: scissors\n",
            "Player 2 wins!\n"
          ]
        }
      ],
      "source": [
        "# 16. Rock, Paper, Scissors Game (2 players)\n",
        "# Ask both players to enter their choice\n",
        "# Decide who wins based on rules(research the rules)\n",
        "\n",
        "# Rock, Paper, Scissors Game for 2 players with replay on tie\n",
        "\n",
        "#Define the rules\n",
        "rules = {\n",
        "    \"rock\": \"scissors\",\n",
        "    \"scissors\": \"paper\",\n",
        "    \"paper\": \"rock\"\n",
        "}\n",
        "\n",
        "while True:\n",
        "    print(\"Let's play Rock, Paper, Scissors!\")\n",
        "    player1 = input(\"Player 1 - Enter rock, paper, or scissors: \").lower()\n",
        "    player2 = input(\"Player 2 - Enter rock, paper, or scissors: \").lower()\n",
        "\n",
        "    #validating the rules\n",
        "    if player1 not in rules or player2 not in rules:\n",
        "        print(\"Invalid input! Please enter rock, paper, or scissors.\")\n",
        "        continue  # Ask again\n",
        "\n",
        "    #Checking for a tie\n",
        "    if player1 == player2:\n",
        "        print(\"It's a tie! Play again.\\n\")\n",
        "        continue\n",
        "\n",
        "    #determining the winner\n",
        "    if rules[player1] == player2:\n",
        "        print(\"Player 1 wins!\")\n",
        "    else:\n",
        "        print(\"Player 2 wins!\")\n",
        "\n",
        "    break\n",
        "\n",
        "\n"
      ]
    },
    {
      "cell_type": "code",
      "execution_count": 36,
      "id": "25c23375-d5fc-4cff-aae4-43dcf6076461",
      "metadata": {
        "id": "25c23375-d5fc-4cff-aae4-43dcf6076461",
        "colab": {
          "base_uri": "https://localhost:8080/"
        },
        "outputId": "037f8dfd-3919-496e-bc28-395d1b0ccaf3"
      },
      "outputs": [
        {
          "output_type": "stream",
          "name": "stdout",
          "text": [
            "Enter a number 7\n",
            "7 is a prime number\n"
          ]
        }
      ],
      "source": [
        "# 17. Ask the user for a number and check if it's a prime number (Hint: A prime number has only two factors)\n",
        "\n",
        "num = int(input(\"Enter a number \"))\n",
        "if num > 1:\n",
        "    for i in range(2, num):\n",
        "        if (num % i) == 0:\n",
        "            print(num, \"is not a prime number\")\n",
        "            break\n",
        "    else:\n",
        "        print(num, \"is a prime number\")"
      ]
    },
    {
      "cell_type": "code",
      "execution_count": 44,
      "id": "c7b16d61-eab5-47ae-9301-ba7f55f97ba7",
      "metadata": {
        "id": "c7b16d61-eab5-47ae-9301-ba7f55f97ba7",
        "colab": {
          "base_uri": "https://localhost:8080/"
        },
        "outputId": "16591bc9-088c-468d-e339-639d45af2f4f"
      },
      "outputs": [
        {
          "output_type": "stream",
          "name": "stdout",
          "text": [
            "Enter a number 81\n",
            "81 is a perfect square\n"
          ]
        }
      ],
      "source": [
        "# 18. Ask the user to enter a number and check if it’s a perfect square.\n",
        "\n",
        "nummber = int(input(\"Enter a number \"))\n",
        "for i in range(1, nummber + 1):\n",
        "    if i * i == nummber:\n",
        "        print(nummber, \"is a perfect square\")\n",
        "        break\n",
        "else:\n",
        "        print(nummber, \"is not a perfect square\")\n",
        ""
      ]
    },
    {
      "cell_type": "code",
      "source": [],
      "metadata": {
        "id": "CJtG8HrsCWWY"
      },
      "id": "CJtG8HrsCWWY",
      "execution_count": null,
      "outputs": []
    }
  ],
  "metadata": {
    "kernelspec": {
      "display_name": "Python [conda env:base] *",
      "language": "python",
      "name": "conda-base-py"
    },
    "language_info": {
      "codemirror_mode": {
        "name": "ipython",
        "version": 3
      },
      "file_extension": ".py",
      "mimetype": "text/x-python",
      "name": "python",
      "nbconvert_exporter": "python",
      "pygments_lexer": "ipython3",
      "version": "3.12.7"
    },
    "colab": {
      "provenance": [],
      "include_colab_link": true
    }
  },
  "nbformat": 4,
  "nbformat_minor": 5
}